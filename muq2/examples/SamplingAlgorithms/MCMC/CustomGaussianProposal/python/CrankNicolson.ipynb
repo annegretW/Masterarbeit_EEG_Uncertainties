{
 "cells": [
  {
   "cell_type": "code",
   "execution_count": null,
   "metadata": {},
   "outputs": [],
   "source": [
    "import numpy as np\n",
    "import scipy.linalg as la\n",
    "\n",
    "import muq.Modeling as mm\n",
    "import muq.SamplingAlgorithms as ms"
   ]
  },
  {
   "cell_type": "code",
   "execution_count": null,
   "metadata": {},
   "outputs": [],
   "source": [
    "class MyGauss(mm.PyGaussianBase):\n",
    "\n",
    "    def __init__(self, mu, gamma):\n",
    "        \"\"\"\n",
    "        Constructs the Gaussian from a mean vector mu and covariance matrix gamma.\n",
    "        \"\"\"\n",
    "        mm.PyGaussianBase.__init__(self,mu)\n",
    "\n",
    "        self.gamma = gamma\n",
    "        self.L = la.cho_factor(gamma,lower=True)[0]\n",
    "\n",
    "    def SampleImpl(self, inputs):\n",
    "        \"\"\" Overloading this function is optional. \"\"\"\n",
    "        z = np.random.randn(self.gamma.shape[0])\n",
    "        return self.GetMean() + self.ApplyCovSqrt(z)\n",
    "\n",
    "    def ApplyCovariance(self, x):\n",
    "        return self.gamma @ x\n",
    "\n",
    "    def ApplyPrecision(self, x):\n",
    "        return la.cho_solve((self.L,True),x)\n",
    "\n",
    "    def ApplyCovSqrt(self,x):\n",
    "        return self.L @ x\n",
    "\n",
    "    def ApplyPrecSqrt(self,x):\n",
    "        return la.solve_triangular(self.L.T , x, lower=False)"
   ]
  },
  {
   "cell_type": "code",
   "execution_count": null,
   "metadata": {},
   "outputs": [],
   "source": [
    "###############################\n",
    "# Construct the target density\n",
    "\n",
    "tgtMean = np.ones((2,))\n",
    "\n",
    "rho = 0.8\n",
    "std1 = 1.5\n",
    "std2 = 0.5\n",
    "tgtCov = np.array([[std1*std1, rho*std1*std2],\n",
    "                   [rho*std1*std2, std2*std2]])\n",
    "\n",
    "tgtGauss = mm.Gaussian(tgtMean,tgtCov)\n",
    "tgtDens = mm.Gaussian(tgtMean, tgtCov).AsDensity()\n",
    "\n",
    "###############################\n",
    "# Construct a custom Gaussian distribution to use in Crank-Nicholson proposal\n",
    "gauss = MyGauss(tgtMean, tgtCov)\n",
    "\n",
    "##############################\n",
    "# Build the MCMC Sampler\n",
    "opts = dict()\n",
    "opts['NumSamples'] = 2000 # Number of MCMC steps to take\n",
    "opts['BurnIn'] = 10 # Number of steps to throw away as burn in\n",
    "opts['PrintLevel'] = 3 # in {0,1,2,3} Verbosity of the output\n",
    "opts['Beta'] = 0.75 # Crank Nicholson parameter\n",
    "\n",
    "# Construct the sampling problem from the target density\n",
    "problem = ms.SamplingProblem(tgtDens)\n",
    "\n",
    "# Construct the CrankNicholson proposal\n",
    "pcnProp = ms.CrankNicolsonProposal(opts, problem, gauss)\n",
    "\n",
    "# Use the proposal to construct a Metropolis-Hastings kernel\n",
    "kern = ms.MHKernel(opts,problem,pcnProp)\n",
    "\n",
    "# Construct the MCMC sampler using this transition kernel\n",
    "sampler = ms.SingleChainMCMC(opts, [kern])\n",
    "\n",
    "#################################\n",
    "# Run the MCMC sampler\n",
    "x0 = [tgtMean]\n",
    "samps = sampler.Run(x0)\n",
    "\n",
    "#################################\n",
    "# Look at the results\n",
    "print('\\nEffective Sample Size =\\n', samps.ESS(), '\\n')\n",
    "print('Sample mean=\\n', samps.Mean(), '\\n')\n",
    "print('Sample Covariance=\\n', samps.Covariance(), '\\n')\n"
   ]
  }
 ],
 "metadata": {
  "kernelspec": {
   "display_name": "Python 3",
   "language": "python",
   "name": "python3"
  },
  "language_info": {
   "codemirror_mode": {
    "name": "ipython",
    "version": 3
   },
   "file_extension": ".py",
   "mimetype": "text/x-python",
   "name": "python",
   "nbconvert_exporter": "python",
   "pygments_lexer": "ipython3",
   "version": "3.8.10"
  }
 },
 "nbformat": 4,
 "nbformat_minor": 4
}
