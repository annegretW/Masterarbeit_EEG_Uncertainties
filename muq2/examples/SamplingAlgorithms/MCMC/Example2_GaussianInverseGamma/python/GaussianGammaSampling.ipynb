{
 "cells": [
  {
   "cell_type": "markdown",
   "metadata": {},
   "source": [
    "## Overview\n",
    "The goal of this example is to demonstrate MCMC sampling with block updates.\n",
    "The problem is to sample a Gaussian distribution where the variance of\n",
    "the Gaussian is a random variable endowed with an inverse Gamma distribution.\n",
    "Thus, there are two \"blocks\" of interest: the Gaussian random variable and the\n",
    "variance hyperparameter.  We will sample the joint distribution of both parameters\n",
    "by constructing a Metropolis-Within-Gibbs sampler.\n",
    "\n",
    "### Problem Formulation\n",
    "Let $x$ denote the Gaussian random variable and $\\sigma^2$ its\n",
    "variance, which follows an Inverse Gamma distribution.  Notice that the joint\n",
    "density $\\pi(x,\\sigma)$ can be expanded in two ways:\n",
    "$$\n",
    "\\pi(x,\\sigma^2) = \\pi(x | \\sigma^2)\\pi(\\sigma^2)\n",
    "$$\n",
    "and\n",
    "$$\n",
    "\\pi(x,\\sigma^2) = \\pi(\\sigma^2 | x)\\pi(x).\n",
    "$$\n",
    "We will use this to simplify the Metropolis-Hastings acceptance ratios below.\n",
    "\n",
    "\n",
    "Now consider a two stage Metropolis-Hastings algorithm.  In the first stage\n",
    "we take a step in $x$ with a fixed value of $\\sigma^2$ and in the second stage\n",
    "we take a step in $\\sigma^2$ with a fixed value of $x$.  Using the Metropolis-Hastings\n",
    "rule for each stage, the algorithm is given by\n",
    "\n",
    "1. Update $x$\n",
    "\n",
    "  a. Propose a step in the $x$ block, $x^\\prime \\sim q(x | x^{(k-1)}, \\sigma^{(k-1)})$\n",
    "\n",
    "  b. Compute the acceptance probability using the expanded joint density\n",
    "  $$\n",
    "  \\begin{eqnarray}\n",
    "  \\gamma &=& \\frac{\\pi(x^\\prime | \\sigma^{(k-1)})\\pi(\\sigma^{(k-1)})}{\\pi(x^{(k-1)} | \\sigma^{(k-1)}) \\pi(\\sigma^{(k-1)})} \\frac{q(x^{(k-1)} | x^\\prime, \\sigma^{(k-1)})}{q(x^\\prime | x^{(k-1)}, \\sigma^{(k-1)})} \\\\ &=& \\frac{\\pi(x^\\prime | \\sigma^{(k-1)})}{\\pi(x^{(k-1)} | \\sigma^{(k-1)})} \\frac{q(x^{(k-1)} | x^\\prime, \\sigma^{(k-1)})}{q(x^\\prime | x^{(k-1)}, \\sigma^{(k-1)})}\n",
    "  \\end{eqnarray}\n",
    "  $$\n",
    "\n",
    "  c. Take the step in the $x$ block: $x^{(k)} = x^\\prime$ with probability $\\min(1,\\gamma)$, else $x^{(k)} = x^{(k-1)}$\n",
    "\n",
    "2. Update $\\sigma^2$\n",
    "\n",
    "  a. Propose a step in the $\\sigma^2$ block, $\\sigma^\\prime \\sim q(\\sigma | x^{(k)}, \\sigma^{(k-1)})$\n",
    "\n",
    "  b. Compute the acceptance probability using the expanded joint density\n",
    "  $$\\begin{eqnarray}\n",
    "  \\gamma &=& \\frac{\\pi(\\sigma^\\prime | x^{(k)})\\pi(x^{(k)})}{\\pi(\\sigma^{(k-1)} | x^{(k)}) \\pi(x^{(k)})} \\frac{q(\\sigma^{(k-1)} | \\sigma^\\prime, x^{(k)})}{q(\\sigma^\\prime | \\sigma^{(k-1)}, x^{(k)})}. \\\\ &=& \\frac{\\pi(\\sigma^\\prime | x^{(k)})}{\\pi(\\sigma^{(k-1)} | x^{(k)})} \\frac{q(\\sigma^{(k-1)} | \\sigma^\\prime, x^{(k)})}{q(\\sigma^\\prime | \\sigma^{(k-1)}, x^{(k)})}.\n",
    "  \\end{eqnarray}$$\n",
    "\n",
    "  c. Take the step in the $\\sigma^2$ block: $\\sigma^{(k)} = \\sigma^\\prime$ with probability $\\min(1,\\gamma)$, else $\\sigma^{(k)} = \\sigma^{(k-1)}$\n",
    "\n",
    "The extra complexity of this two stage approach is warranted when one or both of the block proposals\n",
    "$q(\\sigma^\\prime | \\sigma^{(k-1)}, x^{(k)})$ and $q(x^\\prime | x^{(k-1)}, \\sigma^{(k-1)})$\n",
    "can be chosen to match the condtiional target densities $\\pi(\\sigma^\\prime | x^{(k)})$\n",
    "and $\\pi(x^\\prime | \\sigma^{(k-1)})$.  When $\\pi(x | \\sigma^2)$ is Gaussian\n",
    "and $\\pi(\\sigma^2)$ is Inverse Gamma, as is the case in this example, the conditional target distribution $\\pi(\\sigma^2 | x)$ can be sampled\n",
    "directly, allowing us to choose $q(\\sigma^\\prime | \\sigma^{(k-1)}, x^{(k)}) = \\pi(\\sigma^\\prime | x^{(k)})$.\n",
    "This guarantees an acceptance probability of one for the $\\sigma^2$ update.  Notice\n",
    "that in this example, $\\pi(x^\\prime | \\sigma^{(k-1)})$ is Gaussian and could also\n",
    "be sampled directly.  For illustrative purposes however, we will mix a random\n",
    "walk proposal on $x$ with an independent Inverse Gamma proposal on $\\sigma^2$.\n",
    "\n",
    "***\n",
    "## Implementation\n",
    "To sample the Gaussian target, the code needs to do four things:\n",
    "\n",
    "1. Define the joint Gaussian-Inverse Gamma target density with two inputs and set up a sampling problem.\n",
    "\n",
    "2. Construct the blockwise Metropolis-Hastings algorithm with a mix of random walk and Inverse Gamma proposals.\n",
    "\n",
    "3. Run the MCMC algorithm.\n",
    "\n",
    "4. Analyze the results.\n",
    "\n"
   ]
  },
  {
   "cell_type": "markdown",
   "metadata": {},
   "source": [
    "### Import libraries"
   ]
  },
  {
   "cell_type": "code",
   "execution_count": 1,
   "metadata": {},
   "outputs": [],
   "source": [
    "from IPython.display import Image\n",
    "import numpy as np\n",
    "\n",
    "import muq.SamplingAlgorithms as ms\n",
    "import muq.Modeling as mm"
   ]
  },
  {
   "cell_type": "markdown",
   "metadata": {},
   "source": [
    "### 1. Define the joint Gaussian-Inverse Gamma target density\n",
    "  Here we need to construct the joint density $\\pi(x | \\sigma^2)\\pi(\\sigma^2)$.\n",
    "  Combining models model components in MUQ is accomplished by creating a\n",
    "  WorkGraph, adding components the graph as nodes, and then adding edges to\n",
    "  connect the components and construct the more complicated model.  Once constructed,\n",
    "  our graph should look like:\n",
    "\n",
    "  <center>\n",
    "    <img src=\"DocFiles/GraphImage.png\" alt=\"Model Graph\" style=\"width: 400px;\"/>\n",
    "  </center>\n",
    "\n",
    "  Dashed nodes in the image correspond to model inputs and nodes with solid borders\n",
    "  represent model components represented through a child of the ModPiece class.\n",
    "  The following code creates each of the components and then adds them on to the\n",
    "  graph.  Notice that when the ModPiece's are added to the graph, a node name is\n",
    "  specified.  Later, we will use these names to identify structure in the graph\n",
    "  that can be exploited to generate the Inverse Gamma proposal.  Note that the\n",
    "  node names used below correspond to the names used in the figure above."
   ]
  },
  {
   "cell_type": "code",
   "execution_count": 2,
   "metadata": {},
   "outputs": [],
   "source": [
    "varPiece = mm.IdentityOperator(1)"
   ]
  },
  {
   "cell_type": "markdown",
   "metadata": {},
   "source": [
    "In previous examples, the only input to the Gaussian density was the parameter\n",
    "  $x$ itself.  Here however, the variance is also an input.  The Gaussian class\n",
    "  provides an enum for defining this type of extra input.  Avaialable options are\n",
    "\n",
    "  - `Gaussian::Mean` The mean should be included as an input\n",
    "  - `Gaussian::DiagCovariance` The covariance diagonal is an input\n",
    "  - `Gaussian::DiagPrecision` The precision diagonal is an input\n",
    "  - `Gaussian::FullCovariance` The full covariance is an input (unraveled as a vector)\n",
    "  - `Gaussian::FullPrecision` The full precision is an input (unraveled as a vector)\n",
    "\n",
    "  The `|` operator can be used to combine options.  For example, if both the mean and\n",
    "  diagonal covariance will be inputs, then we could pass `Gaussian::Mean | Gaussian::DiagCovariance`\n",
    "  to the Gaussian constructor.\n",
    "\n",
    "  In our case, only the diagonal covariance will be an input, so we can simply use `Gaussian::DiagCovariance`."
   ]
  },
  {
   "cell_type": "code",
   "execution_count": 3,
   "metadata": {},
   "outputs": [],
   "source": [
    "mu = np.array([1.0, 2.0])\n",
    "gaussDens = mm.Gaussian(mu,mm.Gaussian.DiagCovariance).AsDensity()"
   ]
  },
  {
   "cell_type": "markdown",
   "metadata": {},
   "source": [
    "  Here we construct the Inverse Gamma distribution $\\pi(\\sigma^2)$"
   ]
  },
  {
   "cell_type": "code",
   "execution_count": 4,
   "metadata": {},
   "outputs": [],
   "source": [
    "alpha = 2.5\n",
    "beta = 1.0\n",
    "\n",
    "varDens = mm.InverseGamma(alpha,beta).AsDensity()\n",
    "\n",
    "prodDens = mm.DensityProduct(2)"
   ]
  },
  {
   "cell_type": "markdown",
   "metadata": {},
   "source": [
    "The Gaussian density used here is two dimensional with the same variance in each\n",
    "dimension.  The Gaussian ModPiece thus requires a two dimensional vector to define\n",
    "the diagonal covariance.  To support that, we need to replicate the 1D vector\n",
    "returned by the \"varPiece\" IdentityOperator.   The ReplicateOperator class\n",
    "provides this functionality."
   ]
  },
  {
   "cell_type": "code",
   "execution_count": 5,
   "metadata": {},
   "outputs": [],
   "source": [
    "rep10p = mm.ReplicateOperator(1,2)\n",
    "graph = mm.WorkGraph()\n",
    "\n",
    "graph.AddNode(gaussDens, \"Gaussian Density\")\n",
    "graph.AddNode(varPiece, \"Variance\")\n",
    "graph.AddNode(varDens, \"Variance Density\")\n",
    "graph.AddNode(prodDens, \"Joint Density\")\n",
    "graph.AddNode(rep10p, \"Replicated Variance\")\n",
    "\n",
    "graph.AddEdge(\"Variance\", 0, \"Replicated Variance\", 0)\n",
    "graph.AddEdge(\"Replicated Variance\", 0, \"Gaussian Density\", 1)\n",
    "graph.AddEdge(\"Variance\", 0, \"Variance Density\", 0)\n",
    "\n",
    "graph.AddEdge(\"Gaussian Density\", 0, \"Joint Density\", 0)\n",
    "graph.AddEdge(\"Variance Density\", 0, \"Joint Density\", 1)"
   ]
  },
  {
   "cell_type": "markdown",
   "metadata": {},
   "source": [
    " #### Visualize the graph\n",
    "To check to make sure we constructed the graph correctly, we will employ the\n",
    "  WorkGraph::Visualize function.  This function generates an image in the folder\n",
    "  where the executable was run.  The result will look like the image below.  Looking\n",
    "  at this image closely, we see that, with the exception of the \"Replicate Variance\"\n",
    "  node, the structure matches what we expect."
   ]
  },
  {
   "cell_type": "code",
   "execution_count": 6,
   "metadata": {},
   "outputs": [],
   "source": [
    "graph.Visualize(\"DensityGraph.png\")"
   ]
  },
  {
   "cell_type": "code",
   "execution_count": 7,
   "metadata": {},
   "outputs": [
    {
     "data": {
      "image/png": "[encoded data removed]",
      "text/plain": [
       "<IPython.core.display.Image object>"
      ]
     },
     "execution_count": 7,
     "metadata": {},
     "output_type": "execute_result"
    }
   ],
   "source": [
    "Image(filename='DensityGraph.png') "
   ]
  },
  {
   "cell_type": "markdown",
   "metadata": {},
   "source": [
    " #### Construct the joint density model and sampling problem\n",
    "  Here we wrap the graph into a single ModPiece that can be used to construct the\n",
    "  sampling problem."
   ]
  },
  {
   "cell_type": "code",
   "execution_count": 8,
   "metadata": {},
   "outputs": [],
   "source": [
    "jointDens = graph.CreateModPiece(\"Joint Density\")\n",
    "problem = ms.SamplingProblem(jointDens)"
   ]
  },
  {
   "cell_type": "markdown",
   "metadata": {},
   "source": [
    "### 2. Construct the blockwise Metropolis-Hastings algorithm\n",
    "The entire two-block MCMC algorithm described above can be specified using the\n",
    "same boost property tree approach used to specify a single chain algorithm.  The\n",
    "only difference is the number of kernels specified in the \"KernelList\" ptree\n",
    "entry.   Here, two other ptree blocks are specified \"Kernel1\" and \"Kernel2\".\n",
    "\n",
    "\"Kernel1\" specifies the transition kernel used to update the Gaussian variable\n",
    "$x$.  Here, it is the same random walk Metropolis (RWM) algorithm used in the\n",
    "first MCMC example.\n",
    "\n",
    "\"Kernel2\" specifies the transition kernel used to udpate the variance $\\sigma^2$.\n",
    "It could also employ a random walk proposal, but here we use to Inverse Gamma\n",
    "proposal, which requires knowledge about both $\\pi(x | \\sigma^2)$ and $\\pi(\\sigma^2)$.\n",
    "To pass this information to the proposal, we specify which nodes in the WorkGraph\n",
    "correspond to the Gaussian and Inverse Gamma densities."
   ]
  },
  {
   "cell_type": "code",
   "execution_count": 9,
   "metadata": {},
   "outputs": [],
   "source": [
    "\n",
    "# Define the Metropolis-Hastings transition kernel over the parameters\n",
    "paramKernOpts = {\n",
    "    'Method' : 'MHKernel',\n",
    "    'Proposal' : 'MyProposal',\n",
    "    'MyProposal.Method' : 'MHProposal',\n",
    "    'MyPropsal.ProposalVariance' : 3.0\n",
    "}\n",
    "\n",
    "# Define the independent inverse-gamma proposal on the hyperparameters\n",
    "hyperKernOpts = {\n",
    "    'Method' :'MHKernel',\n",
    "    'Proposal' : 'GammaProposal',\n",
    "    'GammaProposal.Method' : 'InverseGammaProposal',\n",
    "    'GammaProposal.InverseGammaNode' : 'Variance Density', # The name of the node in the graph containing the hyperprior\n",
    "    'GammaProposal.GaussianNode' : 'Gaussian Density'# The name of the node in the graph containing the Gaussian distribution with variance we want to characterize\n",
    "}\n",
    "\n",
    "chainOpts = {\n",
    "    'NumSamples' : 10000,\n",
    "    'BurnIn' : 1000,\n",
    "    'PrintLevel' : 3,\n",
    "    'KernelList' : 'Kernel1,Kernel2',\n",
    "    'Kernel1' : paramKernOpts,\n",
    "    'Kernel2' : hyperKernOpts\n",
    "}"
   ]
  },
  {
   "cell_type": "markdown",
   "metadata": {},
   "source": [
    "Once the algorithm parameters are specified, we can pass them to the SingleChainMCMC\n",
    "  constructor to create an instance of the MCMC algorithm we defined in the\n",
    "  property tree."
   ]
  },
  {
   "cell_type": "code",
   "execution_count": 10,
   "metadata": {},
   "outputs": [],
   "source": [
    "mcmc = ms.SingleChainMCMC(chainOpts, problem)"
   ]
  },
  {
   "cell_type": "markdown",
   "metadata": {},
   "source": [
    "  ### 3. Run the MCMC algorithm\n",
    "  We are now ready to run the MCMC algorithm.  Here we start the chain at the\n",
    "  target densities mean.   The resulting samples are returned in an instance\n",
    "  of the SampleCollection class, which internally holds the steps in the MCMC chain\n",
    "  as a vector of weighted SamplingState's."
   ]
  },
  {
   "cell_type": "code",
   "execution_count": 11,
   "metadata": {},
   "outputs": [
    {
     "name": "stdout",
     "output_type": "stream",
     "text": [
      "Starting single chain MCMC sampler...\n",
      "  10% Complete\n",
      "    Block 0:\n",
      "      MHKernel acceptance Rate = 41%\n",
      "    Block 1:\n",
      "      MHKernel acceptance Rate = 100%\n",
      "  20% Complete\n",
      "    Block 0:\n",
      "      MHKernel acceptance Rate = 39%\n",
      "    Block 1:\n",
      "      MHKernel acceptance Rate = 100%\n",
      "  30% Complete\n",
      "    Block 0:\n",
      "      MHKernel acceptance Rate = 40%\n",
      "    Block 1:\n",
      "      MHKernel acceptance Rate = 100%\n",
      "  40% Complete\n",
      "    Block 0:\n",
      "      MHKernel acceptance Rate = 40%\n",
      "    Block 1:\n",
      "      MHKernel acceptance Rate = 100%\n",
      "  50% Complete\n",
      "    Block 0:\n",
      "      MHKernel acceptance Rate = 41%\n",
      "    Block 1:\n",
      "      MHKernel acceptance Rate = 100%\n",
      "  60% Complete\n",
      "    Block 0:\n",
      "      MHKernel acceptance Rate = 41%\n",
      "    Block 1:\n",
      "      MHKernel acceptance Rate = 100%\n",
      "  70% Complete\n",
      "    Block 0:\n",
      "      MHKernel acceptance Rate = 41%\n",
      "    Block 1:\n",
      "      MHKernel acceptance Rate = 100%\n",
      "  80% Complete\n",
      "    Block 0:\n",
      "      MHKernel acceptance Rate = 41%\n",
      "    Block 1:\n",
      "      MHKernel acceptance Rate = 100%\n",
      "  90% Complete\n",
      "    Block 0:\n",
      "      MHKernel acceptance Rate = 42%\n",
      "    Block 1:\n",
      "      MHKernel acceptance Rate = 100%\n",
      "  100% Complete\n",
      "    Block 0:\n",
      "      MHKernel acceptance Rate = 42%\n",
      "    Block 1:\n",
      "      MHKernel acceptance Rate = 100%\n",
      "Completed in 0.285013 seconds.\n"
     ]
    }
   ],
   "source": [
    "var = [1] # Set the starting value of the variance to 1\n",
    "startPt = [mu, var] # Start the Gaussian block at the mean\n",
    "\n",
    "samps = mcmc.Run(startPt);"
   ]
  },
  {
   "cell_type": "markdown",
   "metadata": {},
   "source": [
    "### 4. Analyze the results"
   ]
  },
  {
   "cell_type": "code",
   "execution_count": 12,
   "metadata": {},
   "outputs": [
    {
     "name": "stdout",
     "output_type": "stream",
     "text": [
      "Sample Mean:\n",
      "[0.99320887 2.08988982 0.74080819]\n",
      "Sample Variance:\n",
      "[0.7419844  0.89857178 1.51338899]\n",
      "Sample Covariance:\n",
      "[[0.7419844  0.03631094 0.10477268]\n",
      " [0.03631094 0.89857178 0.36798749]\n",
      " [0.10477268 0.36798749 1.51338899]]\n",
      "Sample Third Moment:\n",
      "[ 0.28406155  1.09486352 18.6587767 ]\n"
     ]
    }
   ],
   "source": [
    "sampMean = samps.Mean()\n",
    "print(\"Sample Mean:\")\n",
    "print (np.transpose(sampMean))\n",
    "\n",
    "sampVar = samps.Variance()\n",
    "print(\"Sample Variance:\")\n",
    "print (np.transpose(sampVar))\n",
    "\n",
    "sampCov = samps.Covariance()\n",
    "print(\"Sample Covariance:\")\n",
    "print (sampCov)\n",
    "\n",
    "sampMom3 = samps.CentralMoment(3)\n",
    "print(\"Sample Third Moment:\")\n",
    "print (np.transpose(sampMom3))"
   ]
  },
  {
   "cell_type": "markdown",
   "metadata": {},
   "source": [
    "#### Statistical Accuracy\n",
    "\n",
    "In addition to looking at moments and other expectations with respect to the target distribution, we can also look at the statistical accuracy of the mean estimate.  Specifically, we can look at the Monte Carlo Standard Error (MCSE) and effective sample size of the chain.   There are multiple ways of computing these quantities and MUQ provides implementations of both batch and spectral methods.   Batch methods use the means of different subsets of the chain to estimate the estimator variance whereas spectral methods look at the autocorrelation of the chain.   MUQ uses the spectral method described in [Monte Carlo errors with less error](https://doi.org/10.1016/S0010-4655(03)00467-3).   "
   ]
  },
  {
   "cell_type": "code",
   "execution_count": 13,
   "metadata": {},
   "outputs": [
    {
     "name": "stdout",
     "output_type": "stream",
     "text": [
      "ESS:\n",
      "  Batch:     [455.14298629 288.18615616 351.33190167]\n",
      "  Spectral:  [436.24078478 256.97086512 262.04532569]\n",
      "MCSE:\n",
      "  Batch:     [0.04037602 0.05583928 0.06563213]\n",
      "  Spectral:  [0.04124148 0.05913362 0.07599536]\n"
     ]
    }
   ],
   "source": [
    "batchESS = samps.ESS(method=\"Batch\")\n",
    "batchMCSE = samps.StandardError(method=\"Batch\")\n",
    "\n",
    "spectralESS = samps.ESS(method=\"Wolff\")\n",
    "spectralMCSE = samps.StandardError(method=\"Wolff\")\n",
    "\n",
    "print('ESS:')\n",
    "print('  Batch:    ', batchESS)\n",
    "print('  Spectral: ', spectralESS)\n",
    "\n",
    "print('MCSE:')\n",
    "print('  Batch:    ', batchMCSE)\n",
    "print('  Spectral: ', spectralMCSE)"
   ]
  },
  {
   "cell_type": "markdown",
   "metadata": {},
   "source": [
    "The ESS and MCSE quantities above are computed separately for each component of the chain.   MUQ also provides an implementation of the multivariate effective size described in [Multivariate output analysis for Markov chain Monte Carlo](https://doi.org/10.1093/biomet/asz002)"
   ]
  },
  {
   "cell_type": "code",
   "execution_count": 14,
   "metadata": {},
   "outputs": [
    {
     "name": "stdout",
     "output_type": "stream",
     "text": [
      "Multivariate:\n",
      "  ESS:   [457.3771089]\n",
      "  MCSE:  [0.04027728 0.04432402 0.05752254]\n"
     ]
    }
   ],
   "source": [
    "multiESS = samps.ESS(method=\"MultiBatch\")\n",
    "multiMCSE = samps.StandardError(method=\"MultiBatch\")\n",
    "print('Multivariate:')\n",
    "print('  ESS:  ', multiESS)\n",
    "print('  MCSE: ', multiMCSE)"
   ]
  },
  {
   "cell_type": "markdown",
   "metadata": {},
   "source": [
    "### 5. Compute convergence diagnostics\n",
    "To quantitatively assess whether the chain has converged, we need to run multiple\n",
    "chains and then compare the results.  Below we run 3 more independent chains (for a total of 4)\n",
    "and then analyze convergence using the commonly employed $\\hat{R}$ diagnostic.\n",
    "\n",
    "Notice that a new MCMC sampler is defined each time.  If we simply called `mcmc.Run()`\n",
    "multiple times, the sampler would always pick up where it left off."
   ]
  },
  {
   "cell_type": "code",
   "execution_count": 15,
   "metadata": {},
   "outputs": [
    {
     "name": "stdout",
     "output_type": "stream",
     "text": [
      "Running chain 1...\n",
      "Running chain 2...\n",
      "Running chain 3...\n"
     ]
    }
   ],
   "source": [
    "chainOpts['PrintLevel']=0\n",
    "\n",
    "numChains = 4\n",
    "chains = [samps]\n",
    "\n",
    "for i in range(1,numChains):\n",
    "    print('Running chain {}...'.format(i),flush=True)\n",
    "    \n",
    "    x0 = mu + 1.5*np.random.randn(mu.shape[0])\n",
    "    var0 = np.exp(np.random.randn(1))\n",
    "    \n",
    "    mcmc = ms.SingleChainMCMC(chainOpts, problem)\n",
    "    chains.append( mcmc.Run([x0,var0]) )"
   ]
  },
  {
   "cell_type": "code",
   "execution_count": 16,
   "metadata": {},
   "outputs": [
    {
     "name": "stdout",
     "output_type": "stream",
     "text": [
      "Rhat:  [1.0028394 1.0050431 1.0008351]\n"
     ]
    }
   ],
   "source": [
    "rhat = ms.Diagnostics.Rhat(chains)\n",
    "print(\"Rhat: \", rhat)"
   ]
  }
 ],
 "metadata": {
  "anaconda-cloud": {},
  "kernelspec": {
   "display_name": "Python 3",
   "language": "python",
   "name": "python3"
  },
  "language_info": {
   "codemirror_mode": {
    "name": "ipython",
    "version": 3
   },
   "file_extension": ".py",
   "mimetype": "text/x-python",
   "name": "python",
   "nbconvert_exporter": "python",
   "pygments_lexer": "ipython3",
   "version": "3.8.10"
  }
 },
 "nbformat": 4,
 "nbformat_minor": 4
}
