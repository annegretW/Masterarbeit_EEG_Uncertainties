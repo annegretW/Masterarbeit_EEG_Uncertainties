{
 "cells": [
  {
   "cell_type": "code",
   "execution_count": 1,
   "metadata": {},
   "outputs": [],
   "source": [
    "# import ploting tools\n",
    "import matplotlib as mpl\n",
    "import matplotlib.pyplot as plt\n",
    "\n",
    "import numpy as np\n",
    "import h5py\n",
    "import random\n",
    "\n",
    "# import the MUQ libraries\n",
    "import muq.Utilities as mu # import MUQ utilities module\n",
    "import muq.Modeling as mm # import MUQ modeling module\n",
    "import muq.Approximation as ma # import MUQ approximation module\n",
    "import muq.SamplingAlgorithms as ms\n"
   ]
  },
  {
   "cell_type": "markdown",
   "metadata": {},
   "source": [
    "### 1. Define Densities"
   ]
  },
  {
   "cell_type": "code",
   "execution_count": 2,
   "metadata": {},
   "outputs": [],
   "source": [
    "tgtCov = np.array([[1.0,0.3],[0.3,1.5]]) # target distribution covariance\n",
    "tgtMu = np.array([.8, 2.4]) # target distribution mean\n",
    "        \n",
    "# Make space for a 2x2 collection of densities.  Index (1,1) should hold the true target distribution\n",
    "densities = [ [None]*2 ]*2 \n",
    "\n",
    "# Add the densities\n",
    "densities[0][0] = mm.Gaussian(tgtMu, tgtCov * 2.0).AsDensity()\n",
    "densities[0][1] = mm.Gaussian(tgtMu, tgtCov * 1.3).AsDensity()\n",
    "densities[1][0] = mm.Gaussian(tgtMu, tgtCov * 1.5).AsDensity()\n",
    "densities[1][1] = mm.Gaussian(tgtMu, tgtCov).AsDensity()"
   ]
  },
  {
   "cell_type": "markdown",
   "metadata": {},
   "source": [
    "Now unroll the densities, using a multiindex set to keep track of the linear ordering"
   ]
  },
  {
   "cell_type": "code",
   "execution_count": 3,
   "metadata": {},
   "outputs": [],
   "source": [
    "indices = mu.MultiIndexFactory.CreateFullTensor(orders=[len(densities)-1,len(densities[0])-1])\n",
    "\n",
    "models = []\n",
    "for i in range(indices.Size()):\n",
    "    models.append( densities[ indices.at(i).GetValue(0) ][ indices.at(i).GetValue(1) ] )"
   ]
  },
  {
   "cell_type": "markdown",
   "metadata": {},
   "source": [
    "### 2. Run MultiIndex MCMC"
   ]
  },
  {
   "cell_type": "code",
   "execution_count": 4,
   "metadata": {},
   "outputs": [],
   "source": [
    "numFineSamps = 1000\n",
    "numChains = 4\n",
    "\n",
    "#MIMCMC\n",
    "mioptions = dict()\n",
    "mioptions['NumSamples_0_0'] = numFineSamps * 100 # Number of samples per level\n",
    "mioptions['NumSamples_1_0'] = numFineSamps * 10\n",
    "mioptions['NumSamples_0_1'] = numFineSamps * 10\n",
    "mioptions['NumSamples_1_1'] = numFineSamps\n",
    "\n",
    "mioptions['MLMCMC.Subsampling_0_0'] = 25\n",
    "mioptions['MLMCMC.Subsampling_1_0'] = 5\n",
    "mioptions['MLMCMC.Subsampling_0_1'] = 5\n",
    "mioptions['MLMCMC.Subsampling_1_1'] = 1\n",
    "\n",
    "mioptions['Proposal.Method'] = 'AMProposal'\n",
    "mioptions['Proposal.InitialVariance'] = 2.0\n",
    "mioptions['Proposal.AdaptSteps'] = 50\n",
    "mioptions['Proposal.AdaptStart'] = 100\n",
    "\n",
    "# Now, plug models into MIMCMC\n",
    "chains = [None]*numChains\n",
    "for i in range(numChains):\n",
    "    startPt = tgtMu + 1.5*np.random.randn(2)\n",
    "    mimcmc = ms.MIMCMC(mioptions, startPt, models, indices)\n",
    "    chains[i] = mimcmc.Run()"
   ]
  },
  {
   "cell_type": "markdown",
   "metadata": {},
   "source": [
    "### 3. Analyze the Results"
   ]
  },
  {
   "cell_type": "code",
   "execution_count": 5,
   "metadata": {},
   "outputs": [
    {
     "name": "stdout",
     "output_type": "stream",
     "text": [
      "Convergence diagnostic Rhat:\n",
      "[1.00182023]\n"
     ]
    }
   ],
   "source": [
    "print('Convergence diagnostic Rhat:')\n",
    "print(ms.Diagnostics.Rhat(chains,{'Multivariate':True}))"
   ]
  },
  {
   "cell_type": "code",
   "execution_count": 6,
   "metadata": {},
   "outputs": [
    {
     "name": "stdout",
     "output_type": "stream",
     "text": [
      "Sample Mean = [0.74673428 2.47915221]\n"
     ]
    }
   ],
   "source": [
    "samps = chains[0]\n",
    "sampMean = samps.Mean()\n",
    "print(f\"Sample Mean = {sampMean.transpose()}\")"
   ]
  },
  {
   "cell_type": "code",
   "execution_count": 7,
   "metadata": {},
   "outputs": [
    {
     "name": "stdout",
     "output_type": "stream",
     "text": [
      "Sample Variance = [1.05936028 1.75953172]\n"
     ]
    }
   ],
   "source": [
    "sampVar = samps.Variance()\n",
    "print(f\"Sample Variance = {sampVar.transpose()}\")"
   ]
  },
  {
   "cell_type": "code",
   "execution_count": 8,
   "metadata": {},
   "outputs": [
    {
     "name": "stdout",
     "output_type": "stream",
     "text": [
      "Sample Covariance = [[1.05936028 0.18057371]\n",
      " [0.18057371 1.75953172]]\n"
     ]
    }
   ],
   "source": [
    "sampCov = samps.Covariance()\n",
    "print(f\"Sample Covariance = {sampCov}\")"
   ]
  },
  {
   "cell_type": "code",
   "execution_count": 9,
   "metadata": {},
   "outputs": [
    {
     "name": "stdout",
     "output_type": "stream",
     "text": [
      "Sample Third Moment = [-0.12826552 -0.14462487]\n"
     ]
    }
   ],
   "source": [
    "sampMom3 = samps.CentralMoment(3)\n",
    "print(f\"Sample Third Moment = {sampMom3}\")"
   ]
  },
  {
   "cell_type": "markdown",
   "metadata": {},
   "source": [
    "#### Statistical Accuracy\n",
    "  "
   ]
  },
  {
   "cell_type": "code",
   "execution_count": 10,
   "metadata": {},
   "outputs": [
    {
     "name": "stdout",
     "output_type": "stream",
     "text": [
      "ESS:\n",
      "  Batch:     [ 60.43247973 109.25383677]\n",
      "  Spectral:  [ 49.77324775 115.03578275]\n",
      "MCSE:\n",
      "  Batch:     [0.13239959 0.12690543]\n",
      "  Spectral:  [0.14588944 0.12367504]\n"
     ]
    }
   ],
   "source": [
    "batchESS = samps.ESS(method=\"Batch\")\n",
    "batchMCSE = samps.StandardError(method=\"Batch\")\n",
    "\n",
    "spectralESS = samps.ESS(method=\"Wolff\")\n",
    "spectralMCSE = samps.StandardError(method=\"Wolff\")\n",
    "\n",
    "print('ESS:')\n",
    "print('  Batch:    ', batchESS)\n",
    "print('  Spectral: ', spectralESS)\n",
    "\n",
    "print('MCSE:')\n",
    "print('  Batch:    ', batchMCSE)\n",
    "print('  Spectral: ', spectralMCSE)"
   ]
  },
  {
   "cell_type": "code",
   "execution_count": null,
   "metadata": {},
   "outputs": [],
   "source": []
  }
 ],
 "metadata": {
  "kernelspec": {
   "display_name": "Python 3",
   "language": "python",
   "name": "python3"
  },
  "language_info": {
   "codemirror_mode": {
    "name": "ipython",
    "version": 3
   },
   "file_extension": ".py",
   "mimetype": "text/x-python",
   "name": "python",
   "nbconvert_exporter": "python",
   "pygments_lexer": "ipython3",
   "version": "3.8.10"
  }
 },
 "nbformat": 4,
 "nbformat_minor": 4
}
