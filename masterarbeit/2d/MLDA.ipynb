{
 "cells": [
  {
   "cell_type": "code",
   "execution_count": 11,
   "metadata": {},
   "outputs": [],
   "source": [
    "import numpy as np\n",
    "\n",
    "from os.path import exists\n",
    "from umbridge import serve_model\n",
    "\n",
    "import utility_functions\n",
    "import eeg_model\n"
   ]
  },
  {
   "cell_type": "code",
   "execution_count": 12,
   "metadata": {},
   "outputs": [],
   "source": [
    "# Set paths\n",
    "path_electrodes = [\n",
    "        \"data/electrodes.npz\",\n",
    "        \"data/electrodes.npz\",\n",
    "        \"data/electrodes.npz\"]\n",
    "\n",
    "path_conductivities = 'data/conductivities.txt'\n",
    "\n",
    "path_leadfield_matrices = [\n",
    "        \"data/leadfield_matrix_1.npz\",\n",
    "        \"data/leadfield_matrix_2.npz\",\n",
    "        \"data/leadfield_matrix_3.npz\"]\n",
    "\n",
    "path_meshs = [\n",
    "        \"data/mesh_1.msh\",\n",
    "        \"data/mesh_2.msh\",\n",
    "        \"data/mesh_3.msh\"]\n",
    "\n",
    "l = len(path_leadfield_matrices)\n",
    "assert l == len(path_meshs)\n",
    "assert l == len(path_electrodes)\n",
    "\n",
    "m = len(path_electrodes)"
   ]
  },
  {
   "cell_type": "code",
   "execution_count": 13,
   "metadata": {},
   "outputs": [],
   "source": [
    "# Set parameters\n",
    "center = [127,127]\n",
    "radii = [92,86,78]\n",
    "conductivities = [0.00043,0.00001,0.00179]\n",
    "\n",
    "# Set dipole\n",
    "position = [150,150]\n",
    "s_ref = utility_functions.get_dipole(position,center)\n",
    "\n",
    "# Set noise\n",
    "relative_noise = 0.05"
   ]
  },
  {
   "cell_type": "code",
   "execution_count": 14,
   "metadata": {},
   "outputs": [],
   "source": [
    "# Create leadfield matrices if not already existing\n",
    "for i in range(l):\n",
    "    if not exists(path_leadfield_matrices[i]):\n",
    "        utility_functions.save_leadfield_matrix(\n",
    "            path_electrodes, \n",
    "            path_conductivities, \n",
    "            path_meshs[i], \n",
    "            path_leadfield_matrices[i])"
   ]
  },
  {
   "cell_type": "code",
   "execution_count": 16,
   "metadata": {},
   "outputs": [
    {
     "name": "stdout",
     "output_type": "stream",
     "text": [
      "#################################################################\n",
      "Simulate disturbed sensor values for a given dipole.\n",
      "################################################################# \n",
      "\n",
      "s_ref = Dipole[position: [150 150] moment: [0.707107 0.707107]] \n",
      "\n",
      "Reading 2d Gmsh grid...\n",
      "version 2.2 Gmsh file detected\n",
      "file contains 2109 nodes\n",
      "file contains 4096 elements\n",
      "number of real vertices = 2109\n",
      "number of boundary elements = 0\n",
      "number of elements = 4096\n",
      "volume_conductor.time_reading_gmsh = 0.117092\n",
      "tensors = 3\n",
      "time = 0.0001147\n",
      "volume_conductor.time_reading_tensors = 0.0002418\n",
      "volume_conductor.time_reordering_indices = 0.0011163\n",
      "volume_conductor.time = 0.11845\n",
      "time_element_neighborhood_map 0.0024427 s\n",
      "degree = 1\n",
      "element_type = tetrahedron\n",
      "=== matrix setup (max) 0.0158621 s\n",
      "[[-2.6490435973413793, 2.5867621101648157, -2.9609352850322703, -3.1751733828149584, -3.2934281682318645, -3.3167187142287777, -3.2452975554738774, -3.078620487804981, -2.815459494930698, -2.4541860108382556, -1.9932963688572676, -1.4322394825605935, -0.7727601770598203, -0.020958267918160356, 0.809593332214396, 1.6933092636873348, 3.4216279608217843, 4.104182342225668, 4.529776659555099, 4.617614571642562, 4.3506622509410136, 3.784057078785066, 3.0149464434201616, 2.1433371535561876, 1.2491875728710946, 0.3877902713567507, -0.406535622520555, -1.1143896038422973, -1.7260592223658682, -2.237745569420307]]\n",
      "sigma = 0.23088072858212813\n",
      "1\n"
     ]
    },
    {
     "ename": "IndexError",
     "evalue": "invalid index to scalar variable.",
     "output_type": "error",
     "traceback": [
      "\u001b[0;31m---------------------------------------------------------------------------\u001b[0m",
      "\u001b[0;31mIndexError\u001b[0m                                Traceback (most recent call last)",
      "\u001b[1;32m/home/anne/Masterarbeit/masterarbeit/2d/MLDA.ipynb Cell 5\u001b[0m in \u001b[0;36m<cell line: 7>\u001b[0;34m()\u001b[0m\n\u001b[1;32m     <a href='vscode-notebook-cell://wsl%2Bubuntu-22.04/home/anne/Masterarbeit/masterarbeit/2d/MLDA.ipynb#W5sdnNjb2RlLXJlbW90ZQ%3D%3D?line=9'>10</a>\u001b[0m     b_ref[i], sigma[i] \u001b[39m=\u001b[39m utility_functions\u001b[39m.\u001b[39mcalc_disturbed_sensor_values(s_ref, path_electrodes[i], relative_noise)\n\u001b[1;32m     <a href='vscode-notebook-cell://wsl%2Bubuntu-22.04/home/anne/Masterarbeit/masterarbeit/2d/MLDA.ipynb#W5sdnNjb2RlLXJlbW90ZQ%3D%3D?line=10'>11</a>\u001b[0m \u001b[39melse\u001b[39;00m:\n\u001b[0;32m---> <a href='vscode-notebook-cell://wsl%2Bubuntu-22.04/home/anne/Masterarbeit/masterarbeit/2d/MLDA.ipynb#W5sdnNjb2RlLXJlbW90ZQ%3D%3D?line=11'>12</a>\u001b[0m     b_ref[i], sigma[i] \u001b[39m=\u001b[39m b_ref[\u001b[39m0\u001b[39m], sigma[\u001b[39m0\u001b[39;49m]\n",
      "\u001b[0;31mIndexError\u001b[0m: invalid index to scalar variable."
     ]
    }
   ],
   "source": [
    "# Generate reference values\n",
    "b_ref = np.zeros(l)\n",
    "sigma = np.zeros(l)\n",
    "\n",
    "b_ref, sigma = utility_functions.calc_disturbed_sensor_values(s_ref, path_electrodes[0], relative_noise)\n",
    "\n",
    "for i in range(1,l):\n",
    "    print(i)\n",
    "    if path_electrodes[i] != path_electrodes[0]:\n",
    "        b_ref[i], sigma[i] = utility_functions.calc_disturbed_sensor_values(s_ref, path_electrodes[i], relative_noise)\n",
    "    else:\n",
    "        b_ref[i], sigma[i] = b_ref[0], sigma[0] "
   ]
  },
  {
   "cell_type": "code",
   "execution_count": null,
   "metadata": {},
   "outputs": [],
   "source": [
    "# Create EEG Model\n",
    "testmodel = eeg_model.EEGModelFromFile(\n",
    "    b_ref, \n",
    "    sigma, \n",
    "    path_leadfield_matrices, \n",
    "    path_meshs)\n",
    "\n",
    "# send via localhost\n",
    "serve_model(testmodel, 4243) "
   ]
  }
 ],
 "metadata": {
  "kernelspec": {
   "display_name": "Python 3.10.4 64-bit",
   "language": "python",
   "name": "python3"
  },
  "language_info": {
   "codemirror_mode": {
    "name": "ipython",
    "version": 3
   },
   "file_extension": ".py",
   "mimetype": "text/x-python",
   "name": "python",
   "nbconvert_exporter": "python",
   "pygments_lexer": "ipython3",
   "version": "3.10.4"
  },
  "orig_nbformat": 4,
  "vscode": {
   "interpreter": {
    "hash": "31f2aee4e71d21fbe5cf8b01ff0e069b9275f58929596ceb00d14d90e3e16cd6"
   }
  }
 },
 "nbformat": 4,
 "nbformat_minor": 2
}
