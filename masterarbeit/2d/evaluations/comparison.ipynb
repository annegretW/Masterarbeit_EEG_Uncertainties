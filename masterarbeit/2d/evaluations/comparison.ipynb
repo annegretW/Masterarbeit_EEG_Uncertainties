{
 "cells": [
  {
   "cell_type": "code",
   "execution_count": 9,
   "metadata": {},
   "outputs": [],
   "source": [
    "import sys\n",
    "sys.path.append(\"../python\")\n",
    "\n",
    "import json\n",
    "import h5py\n",
    "import numpy as np\n",
    "import arviz as az\n",
    "import compute_costs\n",
    "import evaluations"
   ]
  },
  {
   "cell_type": "code",
   "execution_count": 10,
   "metadata": {},
   "outputs": [
    {
     "ename": "FileNotFoundError",
     "evalue": "[Errno 2] Unable to open file (unable to open file: name = '/home/anne/Masterarbeit/masterarbeit/2d/results/test_mlda/mlda_0.h5', errno = 2, error message = 'No such file or directory', flags = 0, o_flags = 0)",
     "output_type": "error",
     "traceback": [
      "\u001b[0;31m---------------------------------------------------------------------------\u001b[0m",
      "\u001b[0;31mFileNotFoundError\u001b[0m                         Traceback (most recent call last)",
      "\u001b[1;32m/home/anne/Masterarbeit/masterarbeit/2d/evaluations/comparison.ipynb Cell 2\u001b[0m in \u001b[0;36m<cell line: 16>\u001b[0;34m()\u001b[0m\n\u001b[1;32m     <a href='vscode-notebook-cell://wsl%2Bubuntu-22.04/home/anne/Masterarbeit/masterarbeit/2d/evaluations/comparison.ipynb#W6sdnNjb2RlLXJlbW90ZQ%3D%3D?line=25'>26</a>\u001b[0m \u001b[39mfor\u001b[39;00m c \u001b[39min\u001b[39;00m \u001b[39mrange\u001b[39m(config[\u001b[39m\"\u001b[39m\u001b[39mSetup\u001b[39m\u001b[39m\"\u001b[39m][\u001b[39m\"\u001b[39m\u001b[39mChains\u001b[39m\u001b[39m\"\u001b[39m]):\n\u001b[1;32m     <a href='vscode-notebook-cell://wsl%2Bubuntu-22.04/home/anne/Masterarbeit/masterarbeit/2d/evaluations/comparison.ipynb#W6sdnNjb2RlLXJlbW90ZQ%3D%3D?line=26'>27</a>\u001b[0m     sample_path \u001b[39m=\u001b[39m config[\u001b[39m\"\u001b[39m\u001b[39mSetup\u001b[39m\u001b[39m\"\u001b[39m][\u001b[39m\"\u001b[39m\u001b[39mOutputPath\u001b[39m\u001b[39m\"\u001b[39m] \u001b[39m+\u001b[39m config[\u001b[39m\"\u001b[39m\u001b[39mSampling\u001b[39m\u001b[39m\"\u001b[39m][\u001b[39m\"\u001b[39m\u001b[39mResultFile\u001b[39m\u001b[39m\"\u001b[39m] \n\u001b[0;32m---> <a href='vscode-notebook-cell://wsl%2Bubuntu-22.04/home/anne/Masterarbeit/masterarbeit/2d/evaluations/comparison.ipynb#W6sdnNjb2RlLXJlbW90ZQ%3D%3D?line=27'>28</a>\u001b[0m     fin \u001b[39m=\u001b[39m h5py\u001b[39m.\u001b[39;49mFile(sample_path \u001b[39m+\u001b[39;49m \u001b[39m\"\u001b[39;49m\u001b[39m_\u001b[39;49m\u001b[39m\"\u001b[39;49m \u001b[39m+\u001b[39;49m \u001b[39mstr\u001b[39;49m(c) \u001b[39m+\u001b[39;49m \u001b[39m\"\u001b[39;49m\u001b[39m.h5\u001b[39;49m\u001b[39m\"\u001b[39;49m)\n\u001b[1;32m     <a href='vscode-notebook-cell://wsl%2Bubuntu-22.04/home/anne/Masterarbeit/masterarbeit/2d/evaluations/comparison.ipynb#W6sdnNjb2RlLXJlbW90ZQ%3D%3D?line=28'>29</a>\u001b[0m     samples_mlda\u001b[39m.\u001b[39mappend(np\u001b[39m.\u001b[39marray(fin[\u001b[39m'\u001b[39m\u001b[39m/samples\u001b[39m\u001b[39m'\u001b[39m]))\n\u001b[1;32m     <a href='vscode-notebook-cell://wsl%2Bubuntu-22.04/home/anne/Masterarbeit/masterarbeit/2d/evaluations/comparison.ipynb#W6sdnNjb2RlLXJlbW90ZQ%3D%3D?line=29'>30</a>\u001b[0m     fin\u001b[39m.\u001b[39mclose()\n",
      "File \u001b[0;32m/usr/local/lib/python3.10/dist-packages/h5py/_hl/files.py:533\u001b[0m, in \u001b[0;36mFile.__init__\u001b[0;34m(self, name, mode, driver, libver, userblock_size, swmr, rdcc_nslots, rdcc_nbytes, rdcc_w0, track_order, fs_strategy, fs_persist, fs_threshold, fs_page_size, page_buf_size, min_meta_keep, min_raw_keep, locking, alignment_threshold, alignment_interval, **kwds)\u001b[0m\n\u001b[1;32m    525\u001b[0m     fapl \u001b[39m=\u001b[39m make_fapl(driver, libver, rdcc_nslots, rdcc_nbytes, rdcc_w0,\n\u001b[1;32m    526\u001b[0m                      locking, page_buf_size, min_meta_keep, min_raw_keep,\n\u001b[1;32m    527\u001b[0m                      alignment_threshold\u001b[39m=\u001b[39malignment_threshold,\n\u001b[1;32m    528\u001b[0m                      alignment_interval\u001b[39m=\u001b[39malignment_interval,\n\u001b[1;32m    529\u001b[0m                      \u001b[39m*\u001b[39m\u001b[39m*\u001b[39mkwds)\n\u001b[1;32m    530\u001b[0m     fcpl \u001b[39m=\u001b[39m make_fcpl(track_order\u001b[39m=\u001b[39mtrack_order, fs_strategy\u001b[39m=\u001b[39mfs_strategy,\n\u001b[1;32m    531\u001b[0m                      fs_persist\u001b[39m=\u001b[39mfs_persist, fs_threshold\u001b[39m=\u001b[39mfs_threshold,\n\u001b[1;32m    532\u001b[0m                      fs_page_size\u001b[39m=\u001b[39mfs_page_size)\n\u001b[0;32m--> 533\u001b[0m     fid \u001b[39m=\u001b[39m make_fid(name, mode, userblock_size, fapl, fcpl, swmr\u001b[39m=\u001b[39;49mswmr)\n\u001b[1;32m    535\u001b[0m \u001b[39mif\u001b[39;00m \u001b[39misinstance\u001b[39m(libver, \u001b[39mtuple\u001b[39m):\n\u001b[1;32m    536\u001b[0m     \u001b[39mself\u001b[39m\u001b[39m.\u001b[39m_libver \u001b[39m=\u001b[39m libver\n",
      "File \u001b[0;32m/usr/local/lib/python3.10/dist-packages/h5py/_hl/files.py:226\u001b[0m, in \u001b[0;36mmake_fid\u001b[0;34m(name, mode, userblock_size, fapl, fcpl, swmr)\u001b[0m\n\u001b[1;32m    224\u001b[0m     \u001b[39mif\u001b[39;00m swmr \u001b[39mand\u001b[39;00m swmr_support:\n\u001b[1;32m    225\u001b[0m         flags \u001b[39m|\u001b[39m\u001b[39m=\u001b[39m h5f\u001b[39m.\u001b[39mACC_SWMR_READ\n\u001b[0;32m--> 226\u001b[0m     fid \u001b[39m=\u001b[39m h5f\u001b[39m.\u001b[39;49mopen(name, flags, fapl\u001b[39m=\u001b[39;49mfapl)\n\u001b[1;32m    227\u001b[0m \u001b[39melif\u001b[39;00m mode \u001b[39m==\u001b[39m \u001b[39m'\u001b[39m\u001b[39mr+\u001b[39m\u001b[39m'\u001b[39m:\n\u001b[1;32m    228\u001b[0m     fid \u001b[39m=\u001b[39m h5f\u001b[39m.\u001b[39mopen(name, h5f\u001b[39m.\u001b[39mACC_RDWR, fapl\u001b[39m=\u001b[39mfapl)\n",
      "File \u001b[0;32mh5py/_objects.pyx:54\u001b[0m, in \u001b[0;36mh5py._objects.with_phil.wrapper\u001b[0;34m()\u001b[0m\n",
      "File \u001b[0;32mh5py/_objects.pyx:55\u001b[0m, in \u001b[0;36mh5py._objects.with_phil.wrapper\u001b[0;34m()\u001b[0m\n",
      "File \u001b[0;32mh5py/h5f.pyx:106\u001b[0m, in \u001b[0;36mh5py.h5f.open\u001b[0;34m()\u001b[0m\n",
      "\u001b[0;31mFileNotFoundError\u001b[0m: [Errno 2] Unable to open file (unable to open file: name = '/home/anne/Masterarbeit/masterarbeit/2d/results/test_mlda/mlda_0.h5', errno = 2, error message = 'No such file or directory', flags = 0, o_flags = 0)"
     ]
    }
   ],
   "source": [
    "settings = [\n",
    "    \"MH\",\n",
    "    \"MLDA - meshes\",\n",
    "    \"MLDA - electrodes\",\n",
    "    \"MLDA - source models\",\n",
    "    \"MLDA\"\n",
    "]\n",
    "\n",
    "parameters_paths = [\n",
    "    \"../configs/test_mh/mh.json\",\n",
    "    \"../configs/test_mlda/mlda_meshes.json\",\n",
    "    \"../configs/test_mlda/mlda_electrodes.json\",\n",
    "    \"../configs/test_mlda/mlda_sourcemodels.json\"\n",
    "    \"../configs/test_mlda/mlda.json\"]\n",
    "\n",
    "samples = []\n",
    "chains = []\n",
    "num_samples = []\n",
    "burn_in = []\n",
    "costs = []\n",
    "    \n",
    "for path in parameters_paths:\n",
    "    file = open(path)\n",
    "    config = json.load(file)\n",
    "    file.close()\n",
    "\n",
    "    num_samples.append(config[\"Sampling\"][\"NumSamples\"])\n",
    "    burn_in.append(config[\"Sampling\"][\"BurnIn\"])\n",
    "    chains.append(config[\"Setup\"][\"Chains\"])\n",
    "    \n",
    "    samples_mlda = []\n",
    "    for c in range(config[\"Setup\"][\"Chains\"]):\n",
    "        sample_path = config[\"Setup\"][\"OutputPath\"] + config[\"Sampling\"][\"ResultFile\"] \n",
    "        fin = h5py.File(sample_path + \"_\" + str(c) + \".h5\")\n",
    "        samples_mlda.append(np.array(fin['/samples']))\n",
    "        fin.close()\n",
    "    samples.append(samples_mlda)"
   ]
  },
  {
   "cell_type": "code",
   "execution_count": 3,
   "metadata": {},
   "outputs": [],
   "source": [
    "# compute ess\n",
    "ess = []\n",
    "\n",
    "for sample in samples:\n",
    "    ess_mlda = []\n",
    "    for chain in sample: \n",
    "        if(evaluations.is_converged(chain)==False): \n",
    "            ess_mlda.append(\"Not converged\")  \n",
    "        elif(evaluations.burn_in_check(chain)==False): \n",
    "            ess_mlda.append(\"Burn-in too small\")   \n",
    "        else:\n",
    "            ess_mlda.append(min(az.ess(chain[0]),az.ess(chain[1]),az.ess(chain[2])))\n",
    "    ess.append(ess_mlda)\n",
    "\n"
   ]
  },
  {
   "cell_type": "code",
   "execution_count": 4,
   "metadata": {},
   "outputs": [
    {
     "name": "stdout",
     "output_type": "stream",
     "text": [
      "Samples (on finest level) per effective sample \n",
      "\n",
      "MH: 319.79274703656637\n",
      "MLDA - meshes: Not converged!\n",
      "MLDA - source models: 98.17081313280832\n",
      "MLDA - electrodes: 83.96572690829464\n",
      "\n",
      "\n",
      "MH: 273.5824942637429\n",
      "MLDA - meshes: 215.52146975198787\n",
      "MLDA - source models: Not converged!\n",
      "MLDA - electrodes: 79.4903642255413\n",
      "\n",
      "\n",
      "MH: Burn-in too small!\n",
      "MLDA - meshes: 270.70764998559383\n",
      "MLDA - source models: 148.17662055599513\n",
      "MLDA - electrodes: 212.51178475484053\n",
      "\n",
      "\n"
     ]
    }
   ],
   "source": [
    "print(\"Samples (on finest level) per effective sample \\n\")\n",
    "\n",
    "\n",
    "for j in range(min(chains)):\n",
    "    for i in range(len(settings)):\n",
    "        if(ess[i][j]==\"Not converged\"):\n",
    "            print(settings[i] + \": Not converged!\")\n",
    "        elif(ess[i][j]==\"Burn-in too small\"):\n",
    "            print(settings[i] + \": Burn-in too small!\")  \n",
    "        else:\n",
    "            print(settings[i] + \": \" + str((num_samples[i]-burn_in[i])/ess[i][j]))\n",
    "            \n",
    "    print(\"\\n\")"
   ]
  },
  {
   "cell_type": "code",
   "execution_count": 11,
   "metadata": {},
   "outputs": [
    {
     "name": "stdout",
     "output_type": "stream",
     "text": [
      "Dipole:\n",
      "Dipole[position: [120 220] moment: [0.0707372 0.997495]]\n",
      "volume_conductor.time_creating_grid = 0.257831\n",
      "volume_conductor.time_reordering_labels = 0.0038806\n",
      "volume_conductor.time = 0.261713\n",
      "time_element_neighborhood_map 0.0215895 s\n",
      "degree = 1\n",
      "element_type = hexahedron\n",
      "Dipole[position: [120 220] moment: [0.0707372 0.997495]]\n",
      "sigma = 0.11508410052537331\n",
      "{'Level3_V': {0: array([-8.59176596, -8.65824627, -8.11953982, -8.82336024, -9.05078691,\n",
      "       -8.17118861, -8.11743752, -9.40115755, -7.83388808, -9.07572896,\n",
      "       -7.78199894, -9.21043606, -9.20101762, -7.74062238, -8.99684312,\n",
      "       -8.36669191, -8.02116365, -7.49394186, -6.3020461 , -4.10238027,\n",
      "       -0.08874167,  5.87401153, 13.59164013, 20.39407033, 23.02747444,\n",
      "       21.82225669, 19.34628697, 16.483797  , 13.93158746, 11.8399258 ,\n",
      "       10.11433934,  2.77875358,  2.2505126 ,  1.38875621, -0.12522059,\n",
      "        0.17385677])}}\n",
      "volume_conductor.time_creating_grid = 0.35705\n",
      "volume_conductor.time_reordering_labels = 0.0101206\n",
      "volume_conductor.time = 0.367173\n",
      "time_element_neighborhood_map 0.0290723 s\n",
      "degree = 1\n",
      "element_type = hexahedron\n",
      "[40000.]\n",
      "Dipole:\n",
      "Dipole[position: [120 220] moment: [0.0707372 0.997495]]\n",
      "volume_conductor.time_creating_grid = 0.014081\n",
      "volume_conductor.time_reordering_labels = 0.0002811\n",
      "volume_conductor.time = 0.014364\n",
      "time_element_neighborhood_map 0.0012469 s\n",
      "degree = 1\n",
      "element_type = hexahedron\n",
      "Dipole[position: [120 220] moment: [0.0707372 0.997495]]\n",
      "sigma = 0.12414018211166233\n",
      "volume_conductor.time_creating_grid = 0.23845\n",
      "volume_conductor.time_reordering_labels = 0.0037604\n",
      "volume_conductor.time = 0.242212\n",
      "time_element_neighborhood_map 0.0181111 s\n",
      "degree = 1\n",
      "element_type = hexahedron\n",
      "Dipole[position: [120 220] moment: [0.0707372 0.997495]]\n",
      "sigma = 0.11508410052537331\n",
      "{'Level1': {0: array([ -9.85774928,  -9.51146089, -10.23621758,  -7.78019123,\n",
      "        -2.61324239,  11.52568904,  24.91244164,   7.35285316,\n",
      "        -3.55702965])}, 'Level2': {0: array([-8.52334474e+00, -8.59165805e+00, -8.18168953e+00, -8.76622898e+00,\n",
      "       -8.71619315e+00, -8.18591841e+00, -8.27681725e+00, -9.10742275e+00,\n",
      "       -7.88112244e+00, -9.07156608e+00, -7.83818698e+00, -9.20702199e+00,\n",
      "       -9.20344771e+00, -7.67320996e+00, -8.93138114e+00, -8.65647924e+00,\n",
      "       -7.86994435e+00, -7.41180408e+00, -6.35197183e+00, -3.82684810e+00,\n",
      "       -2.17710668e-01,  5.89113699e+00,  1.33528675e+01,  2.05024340e+01,\n",
      "        2.32282793e+01,  2.19859047e+01,  1.94518154e+01,  1.66228864e+01,\n",
      "        1.38430031e+01,  1.18549995e+01,  1.01407386e+01,  2.82808193e+00,\n",
      "        2.32708244e+00,  1.27018389e+00, -1.62904824e-01, -1.19681984e-02])}}\n",
      "volume_conductor.time_creating_grid = 0.0128157\n",
      "volume_conductor.time_reordering_labels = 0.0002499\n",
      "volume_conductor.time = 0.0130672\n",
      "time_element_neighborhood_map 0.0017941 s\n",
      "degree = 1\n",
      "element_type = hexahedron\n",
      "volume_conductor.time_creating_grid = 0.260022\n",
      "volume_conductor.time_reordering_labels = 0.0120944\n",
      "volume_conductor.time = 0.272119\n",
      "time_element_neighborhood_map 0.027448 s\n",
      "degree = 1\n",
      "element_type = hexahedron\n",
      "[65000. 10000.]\n"
     ]
    }
   ],
   "source": [
    "costs = np.zeros(len(parameters_paths))\n",
    "for i in range(len(settings)):\n",
    "    costs[i] = evaluations.costs_per_sample(parameters_paths[i])"
   ]
  },
  {
   "cell_type": "code",
   "execution_count": 13,
   "metadata": {},
   "outputs": [
    {
     "name": "stdout",
     "output_type": "stream",
     "text": [
      "[209.07938957 420.41724443]\n",
      "Costs per effective sample \n",
      "\n",
      "MH: 1.857279787222339\n",
      "MLDA: Not converged!\n",
      "\n",
      "\n",
      "MH: 1.588901691619106\n",
      "MLDA: 9.537783413639293\n",
      "\n",
      "\n",
      "MH: Burn-in too small!\n",
      "MLDA: 11.980017289920387\n",
      "\n",
      "\n"
     ]
    }
   ],
   "source": [
    "print(costs)\n",
    "print(\"Costs per effective sample \\n\")\n",
    "\n",
    "for j in range(min(chains)):\n",
    "    for i in range(len(settings)):\n",
    "        if(ess[i][j]==\"Not converged\"):\n",
    "            print(settings[i] + \": Not converged!\")\n",
    "        elif(ess[i][j]==\"Burn-in too small\"):\n",
    "            print(settings[i] + \": Burn-in too small!\")  \n",
    "        else:\n",
    "            print(settings[i] + \": \" + str(costs[i]/ess[i][j]))\n",
    "            \n",
    "    print(\"\\n\")"
   ]
  }
 ],
 "metadata": {
  "kernelspec": {
   "display_name": "Python 3.10.4 64-bit",
   "language": "python",
   "name": "python3"
  },
  "language_info": {
   "codemirror_mode": {
    "name": "ipython",
    "version": 3
   },
   "file_extension": ".py",
   "mimetype": "text/x-python",
   "name": "python",
   "nbconvert_exporter": "python",
   "pygments_lexer": "ipython3",
   "version": "3.10.4"
  },
  "orig_nbformat": 4,
  "vscode": {
   "interpreter": {
    "hash": "31f2aee4e71d21fbe5cf8b01ff0e069b9275f58929596ceb00d14d90e3e16cd6"
   }
  }
 },
 "nbformat": 4,
 "nbformat_minor": 2
}
