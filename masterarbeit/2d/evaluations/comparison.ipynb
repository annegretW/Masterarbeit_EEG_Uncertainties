{
 "cells": [
  {
   "cell_type": "code",
   "execution_count": 66,
   "metadata": {},
   "outputs": [],
   "source": [
    "import sys\n",
    "sys.path.append(\"../python\")\n",
    "\n",
    "import json\n",
    "import h5py\n",
    "import numpy as np\n",
    "import arviz as az\n",
    "import compute_costs\n",
    "import evaluations"
   ]
  },
  {
   "cell_type": "code",
   "execution_count": 67,
   "metadata": {},
   "outputs": [],
   "source": [
    "settings = [\n",
    "    \"MH\",\n",
    "    #\"MH_1\",\n",
    "    #\"MH_2\"#,\n",
    "    #\"MH_2\"\n",
    "    \"MLDA ref\"\n",
    "    #\"MLDA test\"\n",
    "]\n",
    "\n",
    "parameters_paths = [\n",
    "    \"../configs/test_mh/mh.json\",\n",
    "    #\"../configs/test_mh/mh_1.json\",\n",
    "    #\"../configs/test_mh/mh_2.json\"#,\n",
    "    #\"../configs/test_mh/mh_2.json\"\n",
    "    \"../configs/test_mlda/mlda_ref.json\",\n",
    "    #\"../configs/test_mlda/mlda_test.json\"\n",
    "]\n",
    "\n",
    "samples = []\n",
    "chains = []\n",
    "num_samples = []\n",
    "burn_in = []\n",
    "costs = []\n",
    "    \n",
    "for path in parameters_paths:\n",
    "    file = open(path)\n",
    "    config = json.load(file)\n",
    "    file.close()\n",
    "\n",
    "    num_samples.append(config[\"Sampling\"][\"NumSamples\"])\n",
    "    burn_in.append(config[\"Sampling\"][\"BurnIn\"])\n",
    "    chains.append(config[\"Setup\"][\"Chains\"])\n",
    "    \n",
    "    samples_mlda = []\n",
    "    for c in range(config[\"Setup\"][\"Chains\"]):\n",
    "        sample_path = config[\"Setup\"][\"OutputPath\"] + config[\"Sampling\"][\"ResultFile\"] \n",
    "        fin = h5py.File(sample_path + \"_\" + str(c) + \".h5\")\n",
    "        samples_mlda.append(np.array(fin['/samples'][:,:]))\n",
    "        fin.close()\n",
    "    samples.append(samples_mlda)"
   ]
  },
  {
   "cell_type": "code",
   "execution_count": 68,
   "metadata": {},
   "outputs": [
    {
     "name": "stdout",
     "output_type": "stream",
     "text": [
      "Burn-in too small in setting MH for chain 8\n",
      "Burn-in too small in setting MH for chain 9\n",
      "Burn-in too small in setting MLDA ref for chain 5\n",
      "Not converged in setting MLDA ref for chain 7\n",
      "Burn-in too small in setting MLDA ref for chain 8\n",
      "Not converged in setting MLDA ref for chain 9\n"
     ]
    }
   ],
   "source": [
    "# compute ess\n",
    "ess = []\n",
    "\n",
    "for i,sample in enumerate(samples):\n",
    "    ess_mlda = []\n",
    "    for j,chain in enumerate(sample): \n",
    "        if(evaluations.is_converged(chain)==False): \n",
    "            print(\"Not converged in setting \" + settings[i] + \" for chain \" + str(j))  \n",
    "        elif(evaluations.burn_in_check(chain)==False): \n",
    "            print(\"Burn-in too small in setting \" + settings[i] + \" for chain \" + str(j))  \n",
    "        ess_mlda.append(min(az.ess(chain[0]),az.ess(chain[1]),az.ess(chain[2])))\n",
    "    ess.append(ess_mlda)\n",
    "\n"
   ]
  },
  {
   "cell_type": "code",
   "execution_count": 69,
   "metadata": {},
   "outputs": [
    {
     "name": "stdout",
     "output_type": "stream",
     "text": [
      "Samples (on finest level) per effective sample \n",
      "\n",
      "MH: 1786.666787374159 (1.0)\n",
      "MLDA ref: 1021.7995070205068 (0.5719026705154308)\n",
      "MH: 667.0491813997663 (1.0)\n",
      "MLDA ref: 723.6125659728905 (1.084796423037997)\n",
      "MH: 1045.1377963522061 (1.0)\n",
      "MLDA ref: 648.3451787044853 (0.6203442081679307)\n",
      "MH: 4243.775767975052 (1.0)\n",
      "MLDA ref: 4604.439885614862 (1.0849866103580452)\n",
      "MH: 1511.263464195059 (1.0)\n",
      "MLDA ref: 1486.6374246295395 (0.9837049990627306)\n",
      "MH: 1168.6645074855305 (1.0)\n",
      "MLDA ref: 1591.6075052907665 (1.3619028344714854)\n",
      "MH: 66351.47424276288 (1.0)\n",
      "MLDA ref: 277.4589123508625 (0.004181654070499053)\n",
      "MH: 1487.568321500171 (1.0)\n",
      "MLDA ref: 25031.03428405286 (16.826813210710057)\n",
      "MH: 17961.85890779294 (1.0)\n",
      "MLDA ref: 6603.798424361808 (0.36765673632458395)\n",
      "MH: 44161.438625762574 (1.0)\n",
      "MLDA ref: 57433.87769396862 (1.3005436299455895)\n"
     ]
    }
   ],
   "source": [
    "print(\"Samples (on finest level) per effective sample \\n\")\n",
    "\n",
    "samples_per_es = np.zeros((len(settings),min(chains)))\n",
    "rel_samples_per_es = np.zeros((len(settings),min(chains)))\n",
    "\n",
    "for j in range(min(chains)):\n",
    "    for i in range(len(settings)):\n",
    "        samples_per_es[i,j] = (num_samples[i]-burn_in[i])/ess[i][j]\n",
    "        rel_samples_per_es[i,j] = samples_per_es[i,j]/samples_per_es[0,j]\n",
    "\n",
    "        print(settings[i] + \": \" + str(samples_per_es[i,j]) + \" (\" + str(rel_samples_per_es[i,j]) +\")\")\n",
    "            \n",
    "            \n",
    "\n"
   ]
  },
  {
   "cell_type": "code",
   "execution_count": 70,
   "metadata": {},
   "outputs": [
    {
     "name": "stdout",
     "output_type": "stream",
     "text": [
      "Average samples per effective sample \n",
      "\n",
      "MH: 14038.489760260034, 473318885.572135\n",
      "MLDA ref: 9942.26113819672, 300833676.87642336\n"
     ]
    }
   ],
   "source": [
    "print(\"Average samples per effective sample \\n\")\n",
    "\n",
    "for i in range(len(settings)):\n",
    "    print(settings[i] + \": \" + str(np.mean(samples_per_es[i])) + \", \" + str(np.var(samples_per_es[i])))\n"
   ]
  },
  {
   "cell_type": "code",
   "execution_count": 71,
   "metadata": {},
   "outputs": [
    {
     "name": "stdout",
     "output_type": "stream",
     "text": [
      "Dipole:\n",
      "Dipole[position: [120 220] moment: [0.0707372 0.997495]]\n",
      "volume_conductor.time_creating_grid = 3.06865\n",
      "volume_conductor.time_reordering_labels = 0.0061425\n",
      "volume_conductor.time = 3.0748\n",
      "time_element_neighborhood_map 0.0244613 s\n",
      "degree = 1\n",
      "element_type = hexahedron\n",
      "Dipole[position: [120 220] moment: [0.0707372 0.997495]]\n",
      "sigma = 1.150841005253733\n",
      "{'Level3_V': {0: array([ -8.364491  ,  -7.56593475,  -7.69006953,  -7.43026017,\n",
      "        -9.37340315,  -8.20991605,  -8.33883468, -10.98090956,\n",
      "        -8.08612719, -10.75063096,  -7.29940048,  -9.56235824,\n",
      "        -8.97466772,  -9.08452417, -10.51910905,  -7.68911958,\n",
      "        -9.88051891,  -7.46337842,  -5.02643928,  -4.49160955,\n",
      "         1.63831439,   5.41082228,  15.98472271,  21.11142897,\n",
      "        24.54329731,  22.64833662,  19.91082631,  16.64005181,\n",
      "        14.90886761,  12.02387139,  11.19154262,   4.43935654,\n",
      "         1.26481454,   2.12115159,   1.72082684,   1.27733858])}}\n",
      "volume_conductor.time_creating_grid = 0.388906\n",
      "volume_conductor.time_reordering_labels = 0.0065588\n",
      "volume_conductor.time = 0.395467\n",
      "time_element_neighborhood_map 0.0293009 s\n",
      "degree = 1\n",
      "element_type = hexahedron\n",
      "{'solver.reduction': 1e-10, 'source_model': {'type': 'venant', 'numberOfMoments': 2, 'referenceLength': 20, 'weightingExponent': 1, 'relaxationFactor': 1e-06, 'mixedMoments': True, 'restrict': True, 'initialization': 'closest_vertex'}, 'post_process': True, 'subtract_mean': True}\n",
      "[0.09009576 0.06907411 0.5821963  0.97711442 0.7802672  0.46897737\n",
      " 0.77755079 0.28596015 0.40282445 0.59401731 0.06887707 0.84144563\n",
      " 0.85355434 0.56382801 0.31383732 0.41394228 0.92920221 0.96555671\n",
      " 0.05540138 0.47616    0.10506629 0.31552912 0.86817459 0.35242363\n",
      " 0.88084896 0.86130615 0.31157371 0.76735207 0.29854351 0.46405665\n",
      " 0.57923433 0.10952941 0.93869737 0.20135141 0.26370884 0.04995663]\n",
      "[185000.]\n",
      "Dipole:\n",
      "Dipole[position: [120 220] moment: [0.0707372 0.997495]]\n",
      "Dipole[position: [120 220] moment: [0.0707372 0.997495]]\n",
      "volume_conductor.time_creating_grid = 0.0270057\n",
      "volume_conductor.time_reordering_labels = 0.0001997\n",
      "volume_conductor.time = 0.027207\n",
      "time_element_neighborhood_map 0.0014572 s\n",
      "degree = 1\n",
      "element_type = hexahedron\n",
      "sigma = 1.2414018211166233\n",
      "volume_conductor.time_creating_grid = 0.569947\n",
      "volume_conductor.time_reordering_labels = 0.0033035\n",
      "volume_conductor.time = 0.573253\n",
      "time_element_neighborhood_map 0.0414403 s\n",
      "degree = 1\n",
      "element_type = hexahedron\n",
      "Dipole[position: [120 220] moment: [0.0707372 0.997495]]\n",
      "sigma = 1.150841005253733\n",
      "{'Level1': {0: array([ -8.56753019,  -9.13921801, -11.33605094,  -9.84732395,\n",
      "        -0.81755695,  13.14494769,  25.62973912,   8.50566708,\n",
      "        -3.85613826])}, 'Level2': {0: array([ -8.61071345,  -9.68713661,  -7.98193812,  -9.64097684,\n",
      "        -8.27807332,  -8.09373978,  -7.49008001,  -9.39983954,\n",
      "        -7.7603448 ,  -7.88557561,  -7.50996302,  -9.33088534,\n",
      "       -10.04140197,  -5.85213195,  -9.88660558,  -7.5405373 ,\n",
      "        -7.76475337,  -7.23144467,  -6.6465983 ,  -5.78159152,\n",
      "         0.29784851,   5.60467031,  15.18536135,  20.20024745,\n",
      "        23.00968952,  23.01877762,  19.14225532,  16.67341801,\n",
      "        14.63419145,  11.63331942,   9.71755995,   1.90770552,\n",
      "         1.54051917,   1.42988604,  -1.6985342 ,   0.13902852])}}\n",
      "volume_conductor.time_creating_grid = 0.0486696\n",
      "volume_conductor.time_reordering_labels = 0.0002715\n",
      "volume_conductor.time = 0.0489428\n",
      "time_element_neighborhood_map 0.0020428 s\n",
      "degree = 1\n",
      "element_type = hexahedron\n",
      "volume_conductor.time_creating_grid = 0.739384\n",
      "volume_conductor.time_reordering_labels = 0.0120478\n",
      "volume_conductor.time = 0.751433\n",
      "time_element_neighborhood_map 0.0248422 s\n",
      "degree = 1\n",
      "element_type = hexahedron\n",
      "{'solver.reduction': 1e-10, 'source_model': {'type': 'partial_integration'}, 'post_process': True, 'subtract_mean': True}\n",
      "[0.08242011 0.10728413 0.06679108 0.02973301 0.90135685 0.4018736\n",
      " 0.84303074 0.49926729 0.54128071]\n",
      "{'solver.reduction': 1e-10, 'source_model': {'type': 'venant', 'numberOfMoments': 2, 'referenceLength': 20, 'weightingExponent': 1, 'relaxationFactor': 1e-06, 'mixedMoments': True, 'restrict': True, 'initialization': 'closest_vertex'}, 'post_process': True, 'subtract_mean': True}\n",
      "[0.35169454 0.93454479 0.54159896 0.69580444 0.0302385  0.10477866\n",
      " 0.97331981 0.42523272 0.34645307 0.35461528 0.10536823 0.84054251\n",
      " 0.01021419 0.22069462 0.28430135 0.58491212 0.57458278 0.00360933\n",
      " 0.27936818 0.66438845 0.96021726 0.19215155 0.37606023 0.50742019\n",
      " 0.20484699 0.06009304 0.71475889 0.95077028 0.74849536 0.25457835\n",
      " 0.0741561  0.08225862 0.15720958 0.76505487 0.02152578 0.94120341]\n",
      "[225000.  90000.]\n"
     ]
    }
   ],
   "source": [
    "costs = np.zeros(len(parameters_paths))\n",
    "for i in range(len(settings)):\n",
    "    costs[i] = evaluations.costs_per_sample(parameters_paths[i])"
   ]
  },
  {
   "cell_type": "code",
   "execution_count": 72,
   "metadata": {},
   "outputs": [
    {
     "name": "stdout",
     "output_type": "stream",
     "text": [
      "Costs per effective sample \n",
      "\n",
      "MH: 15.338795986140942 (1.0)\n",
      "MLDA ref: 31.844337868245944 (2.076065024726729)\n",
      "\n",
      "\n",
      "MH: 5.726714896430566 (1.0)\n",
      "MLDA ref: 22.551354623120478 (3.937921658571938)\n",
      "\n",
      "\n",
      "MH: 8.972661018237313 (1.0)\n",
      "MLDA ref: 20.205649722925116 (2.2519127471612133)\n",
      "\n",
      "\n",
      "MH: 36.43343637207604 (1.0)\n",
      "MLDA ref: 143.49717180731102 (3.938612057941717)\n",
      "\n",
      "\n",
      "MH: 12.974418130123405 (1.0)\n",
      "MLDA ref: 46.33099165953304 (3.5709494788027434)\n",
      "\n",
      "\n",
      "MH: 10.033155920981724 (1.0)\n",
      "MLDA ref: 49.60237972702215 (4.943846195322424)\n",
      "\n",
      "\n",
      "MH: 569.6371220316923 (1.0)\n",
      "MLDA ref: 8.646995118661355 (0.015179830780375774)\n",
      "\n",
      "\n",
      "MH: 12.770991860475469 (1.0)\n",
      "MLDA ref: 780.0911112761281 (61.08304819224002)\n",
      "\n",
      "\n",
      "MH: 154.20518882729252 (1.0)\n",
      "MLDA ref: 205.8070950262723 (1.3346314517131659)\n",
      "\n",
      "\n",
      "MH: 379.1324170359701 (1.0)\n",
      "MLDA ref: 1789.924338193623 (4.721106024610405)\n",
      "\n",
      "\n"
     ]
    }
   ],
   "source": [
    "print(\"Costs per effective sample \\n\")\n",
    "\n",
    "costs_per_ed = np.zeros((len(settings),min(chains)))\n",
    "rel_costs_per_ed = np.zeros((len(settings),min(chains)))\n",
    "\n",
    "for j in range(min(chains)):\n",
    "    for i in range(len(settings)):\n",
    "        costs_per_ed[i,j] = costs[i]/ess[i][j]\n",
    "        rel_costs_per_ed[i,j] = costs_per_ed[i,j] / costs_per_ed[0,j]\n",
    "\n",
    "        print(settings[i] + \": \" + str(costs_per_ed[i,j]) + \" (\" + str(rel_costs_per_ed[i,j]) + \")\")\n",
    "            \n",
    "    print(\"\\n\")"
   ]
  },
  {
   "cell_type": "code",
   "execution_count": 73,
   "metadata": {},
   "outputs": [
    {
     "name": "stdout",
     "output_type": "stream",
     "text": [
      "Average relative costs per effective sample \n",
      "\n",
      "MH: 1.0, 0.0\n",
      "MLDA ref: 8.787327266187074, 306.0632229582447\n"
     ]
    }
   ],
   "source": [
    "print(\"Average relative costs per effective sample \\n\")\n",
    "\n",
    "for i in range(len(settings)):\n",
    "    print(settings[i] + \": \" + str(np.mean(rel_costs_per_ed[i])) + \", \" + str(np.var(rel_costs_per_ed[i])))\n"
   ]
  }
 ],
 "metadata": {
  "kernelspec": {
   "display_name": "Python 3.10.4 64-bit",
   "language": "python",
   "name": "python3"
  },
  "language_info": {
   "codemirror_mode": {
    "name": "ipython",
    "version": 3
   },
   "file_extension": ".py",
   "mimetype": "text/x-python",
   "name": "python",
   "nbconvert_exporter": "python",
   "pygments_lexer": "ipython3",
   "version": "3.10.4 (main, Jun 29 2022, 12:14:53) [GCC 11.2.0]"
  },
  "orig_nbformat": 4,
  "vscode": {
   "interpreter": {
    "hash": "31f2aee4e71d21fbe5cf8b01ff0e069b9275f58929596ceb00d14d90e3e16cd6"
   }
  }
 },
 "nbformat": 4,
 "nbformat_minor": 2
}
