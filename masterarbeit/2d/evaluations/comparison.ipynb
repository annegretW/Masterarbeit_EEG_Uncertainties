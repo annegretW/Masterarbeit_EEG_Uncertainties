{
 "cells": [
  {
   "cell_type": "code",
   "execution_count": 1,
   "metadata": {},
   "outputs": [
    {
     "ename": "KeyboardInterrupt",
     "evalue": "",
     "output_type": "error",
     "traceback": [
      "\u001b[0;31m---------------------------------------------------------------------------\u001b[0m",
      "\u001b[0;31mKeyboardInterrupt\u001b[0m                         Traceback (most recent call last)",
      "\u001b[1;32m/home/anne/Masterarbeit/masterarbeit/2d/evaluations/comparison.ipynb Cell 1\u001b[0m in \u001b[0;36m<cell line: 7>\u001b[0;34m()\u001b[0m\n\u001b[1;32m      <a href='vscode-notebook-cell://wsl%2Bubuntu-22.04/home/anne/Masterarbeit/masterarbeit/2d/evaluations/comparison.ipynb#W0sdnNjb2RlLXJlbW90ZQ%3D%3D?line=4'>5</a>\u001b[0m \u001b[39mimport\u001b[39;00m \u001b[39mh5py\u001b[39;00m\n\u001b[1;32m      <a href='vscode-notebook-cell://wsl%2Bubuntu-22.04/home/anne/Masterarbeit/masterarbeit/2d/evaluations/comparison.ipynb#W0sdnNjb2RlLXJlbW90ZQ%3D%3D?line=5'>6</a>\u001b[0m \u001b[39mimport\u001b[39;00m \u001b[39mnumpy\u001b[39;00m \u001b[39mas\u001b[39;00m \u001b[39mnp\u001b[39;00m\n\u001b[0;32m----> <a href='vscode-notebook-cell://wsl%2Bubuntu-22.04/home/anne/Masterarbeit/masterarbeit/2d/evaluations/comparison.ipynb#W0sdnNjb2RlLXJlbW90ZQ%3D%3D?line=6'>7</a>\u001b[0m \u001b[39mimport\u001b[39;00m \u001b[39marviz\u001b[39;00m \u001b[39mas\u001b[39;00m \u001b[39maz\u001b[39;00m\n\u001b[1;32m      <a href='vscode-notebook-cell://wsl%2Bubuntu-22.04/home/anne/Masterarbeit/masterarbeit/2d/evaluations/comparison.ipynb#W0sdnNjb2RlLXJlbW90ZQ%3D%3D?line=7'>8</a>\u001b[0m \u001b[39mimport\u001b[39;00m \u001b[39mcompute_costs\u001b[39;00m\n\u001b[1;32m      <a href='vscode-notebook-cell://wsl%2Bubuntu-22.04/home/anne/Masterarbeit/masterarbeit/2d/evaluations/comparison.ipynb#W0sdnNjb2RlLXJlbW90ZQ%3D%3D?line=8'>9</a>\u001b[0m \u001b[39mimport\u001b[39;00m \u001b[39mevaluations\u001b[39;00m\n",
      "File \u001b[0;32m/usr/local/lib/python3.10/dist-packages/arviz/__init__.py:32\u001b[0m, in \u001b[0;36m<module>\u001b[0;34m\u001b[0m\n\u001b[1;32m     26\u001b[0m         \u001b[39msuper\u001b[39m()\u001b[39m.\u001b[39m_log(level, msg, \u001b[39m*\u001b[39margs, \u001b[39m*\u001b[39m\u001b[39m*\u001b[39mkwargs)\n\u001b[1;32m     29\u001b[0m _log \u001b[39m=\u001b[39m Logger(\u001b[39m\"\u001b[39m\u001b[39marviz\u001b[39m\u001b[39m\"\u001b[39m)\n\u001b[0;32m---> 32\u001b[0m \u001b[39mfrom\u001b[39;00m \u001b[39m.\u001b[39;00m\u001b[39mdata\u001b[39;00m \u001b[39mimport\u001b[39;00m \u001b[39m*\u001b[39m\n\u001b[1;32m     33\u001b[0m \u001b[39mfrom\u001b[39;00m \u001b[39m.\u001b[39;00m\u001b[39mplots\u001b[39;00m \u001b[39mimport\u001b[39;00m \u001b[39m*\u001b[39m\n\u001b[1;32m     34\u001b[0m \u001b[39mfrom\u001b[39;00m \u001b[39m.\u001b[39;00m\u001b[39mplots\u001b[39;00m\u001b[39m.\u001b[39;00m\u001b[39mbackends\u001b[39;00m \u001b[39mimport\u001b[39;00m \u001b[39m*\u001b[39m\n",
      "File \u001b[0;32m/usr/local/lib/python3.10/dist-packages/arviz/data/__init__.py:2\u001b[0m, in \u001b[0;36m<module>\u001b[0;34m\u001b[0m\n\u001b[1;32m      1\u001b[0m \u001b[39m\"\"\"Code for loading and manipulating data structures.\"\"\"\u001b[39;00m\n\u001b[0;32m----> 2\u001b[0m \u001b[39mfrom\u001b[39;00m \u001b[39m.\u001b[39;00m\u001b[39mbase\u001b[39;00m \u001b[39mimport\u001b[39;00m CoordSpec, DimSpec, dict_to_dataset, numpy_to_data_array\n\u001b[1;32m      3\u001b[0m \u001b[39mfrom\u001b[39;00m \u001b[39m.\u001b[39;00m\u001b[39mconverters\u001b[39;00m \u001b[39mimport\u001b[39;00m convert_to_dataset, convert_to_inference_data\n\u001b[1;32m      4\u001b[0m \u001b[39mfrom\u001b[39;00m \u001b[39m.\u001b[39;00m\u001b[39mdatasets\u001b[39;00m \u001b[39mimport\u001b[39;00m clear_data_home, list_datasets, load_arviz_data\n",
      "File \u001b[0;32m/usr/local/lib/python3.10/dist-packages/arviz/data/base.py:11\u001b[0m, in \u001b[0;36m<module>\u001b[0;34m\u001b[0m\n\u001b[1;32m      9\u001b[0m \u001b[39mimport\u001b[39;00m \u001b[39mnumpy\u001b[39;00m \u001b[39mas\u001b[39;00m \u001b[39mnp\u001b[39;00m\n\u001b[1;32m     10\u001b[0m \u001b[39mimport\u001b[39;00m \u001b[39mpkg_resources\u001b[39;00m\n\u001b[0;32m---> 11\u001b[0m \u001b[39mimport\u001b[39;00m \u001b[39mxarray\u001b[39;00m \u001b[39mas\u001b[39;00m \u001b[39mxr\u001b[39;00m\n\u001b[1;32m     13\u001b[0m \u001b[39mtry\u001b[39;00m:\n\u001b[1;32m     14\u001b[0m     \u001b[39mimport\u001b[39;00m \u001b[39mujson\u001b[39;00m \u001b[39mas\u001b[39;00m \u001b[39mjson\u001b[39;00m\n",
      "File \u001b[0;32m/usr/local/lib/python3.10/dist-packages/xarray/__init__.py:1\u001b[0m, in \u001b[0;36m<module>\u001b[0;34m\u001b[0m\n\u001b[0;32m----> 1\u001b[0m \u001b[39mfrom\u001b[39;00m \u001b[39m.\u001b[39;00m \u001b[39mimport\u001b[39;00m testing, tutorial, ufuncs\n\u001b[1;32m      2\u001b[0m \u001b[39mfrom\u001b[39;00m \u001b[39m.\u001b[39;00m\u001b[39mbackends\u001b[39;00m\u001b[39m.\u001b[39;00m\u001b[39mapi\u001b[39;00m \u001b[39mimport\u001b[39;00m (\n\u001b[1;32m      3\u001b[0m     load_dataarray,\n\u001b[1;32m      4\u001b[0m     load_dataset,\n\u001b[0;32m   (...)\u001b[0m\n\u001b[1;32m      8\u001b[0m     save_mfdataset,\n\u001b[1;32m      9\u001b[0m )\n\u001b[1;32m     10\u001b[0m \u001b[39mfrom\u001b[39;00m \u001b[39m.\u001b[39;00m\u001b[39mbackends\u001b[39;00m\u001b[39m.\u001b[39;00m\u001b[39mrasterio_\u001b[39;00m \u001b[39mimport\u001b[39;00m open_rasterio\n",
      "File \u001b[0;32m/usr/local/lib/python3.10/dist-packages/xarray/testing.py:8\u001b[0m, in \u001b[0;36m<module>\u001b[0;34m\u001b[0m\n\u001b[1;32m      4\u001b[0m \u001b[39mfrom\u001b[39;00m \u001b[39mtyping\u001b[39;00m \u001b[39mimport\u001b[39;00m Hashable, Set, Union\n\u001b[1;32m      6\u001b[0m \u001b[39mimport\u001b[39;00m \u001b[39mnumpy\u001b[39;00m \u001b[39mas\u001b[39;00m \u001b[39mnp\u001b[39;00m\n\u001b[0;32m----> 8\u001b[0m \u001b[39mfrom\u001b[39;00m \u001b[39mxarray\u001b[39;00m\u001b[39m.\u001b[39;00m\u001b[39mcore\u001b[39;00m \u001b[39mimport\u001b[39;00m duck_array_ops, formatting, utils\n\u001b[1;32m      9\u001b[0m \u001b[39mfrom\u001b[39;00m \u001b[39mxarray\u001b[39;00m\u001b[39m.\u001b[39;00m\u001b[39mcore\u001b[39;00m\u001b[39m.\u001b[39;00m\u001b[39mdataarray\u001b[39;00m \u001b[39mimport\u001b[39;00m DataArray\n\u001b[1;32m     10\u001b[0m \u001b[39mfrom\u001b[39;00m \u001b[39mxarray\u001b[39;00m\u001b[39m.\u001b[39;00m\u001b[39mcore\u001b[39;00m\u001b[39m.\u001b[39;00m\u001b[39mdataset\u001b[39;00m \u001b[39mimport\u001b[39;00m Dataset\n",
      "File \u001b[0;32m/usr/local/lib/python3.10/dist-packages/xarray/core/duck_array_ops.py:24\u001b[0m, in \u001b[0;36m<module>\u001b[0;34m\u001b[0m\n\u001b[1;32m     21\u001b[0m \u001b[39mfrom\u001b[39;00m \u001b[39mnumpy\u001b[39;00m \u001b[39mimport\u001b[39;00m take, tensordot, transpose, unravel_index  \u001b[39m# noqa\u001b[39;00m\n\u001b[1;32m     22\u001b[0m \u001b[39mfrom\u001b[39;00m \u001b[39mnumpy\u001b[39;00m \u001b[39mimport\u001b[39;00m where \u001b[39mas\u001b[39;00m _where\n\u001b[0;32m---> 24\u001b[0m \u001b[39mfrom\u001b[39;00m \u001b[39m.\u001b[39;00m \u001b[39mimport\u001b[39;00m dask_array_compat, dask_array_ops, dtypes, npcompat, nputils\n\u001b[1;32m     25\u001b[0m \u001b[39mfrom\u001b[39;00m \u001b[39m.\u001b[39;00m\u001b[39mnputils\u001b[39;00m \u001b[39mimport\u001b[39;00m nanfirst, nanlast\n\u001b[1;32m     26\u001b[0m \u001b[39mfrom\u001b[39;00m \u001b[39m.\u001b[39;00m\u001b[39mpycompat\u001b[39;00m \u001b[39mimport\u001b[39;00m cupy_array_type, dask_array_type, is_duck_dask_array\n",
      "File \u001b[0;32m/usr/local/lib/python3.10/dist-packages/xarray/core/dask_array_compat.py:6\u001b[0m, in \u001b[0;36m<module>\u001b[0;34m\u001b[0m\n\u001b[1;32m      3\u001b[0m \u001b[39mimport\u001b[39;00m \u001b[39mnumpy\u001b[39;00m \u001b[39mas\u001b[39;00m \u001b[39mnp\u001b[39;00m\n\u001b[1;32m      4\u001b[0m \u001b[39mfrom\u001b[39;00m \u001b[39mpackaging\u001b[39;00m\u001b[39m.\u001b[39;00m\u001b[39mversion\u001b[39;00m \u001b[39mimport\u001b[39;00m Version\n\u001b[0;32m----> 6\u001b[0m \u001b[39mfrom\u001b[39;00m \u001b[39m.\u001b[39;00m\u001b[39mpycompat\u001b[39;00m \u001b[39mimport\u001b[39;00m dask_version\n\u001b[1;32m      8\u001b[0m \u001b[39mtry\u001b[39;00m:\n\u001b[1;32m      9\u001b[0m     \u001b[39mimport\u001b[39;00m \u001b[39mdask\u001b[39;00m\u001b[39m.\u001b[39;00m\u001b[39marray\u001b[39;00m \u001b[39mas\u001b[39;00m \u001b[39mda\u001b[39;00m\n",
      "File \u001b[0;32m/usr/local/lib/python3.10/dist-packages/xarray/core/pycompat.py:46\u001b[0m, in \u001b[0;36m<module>\u001b[0;34m\u001b[0m\n\u001b[1;32m     42\u001b[0m         \u001b[39mself\u001b[39m\u001b[39m.\u001b[39mtype \u001b[39m=\u001b[39m duck_array_type\n\u001b[1;32m     43\u001b[0m         \u001b[39mself\u001b[39m\u001b[39m.\u001b[39mavailable \u001b[39m=\u001b[39m duck_array_module \u001b[39mis\u001b[39;00m \u001b[39mnot\u001b[39;00m \u001b[39mNone\u001b[39;00m\n\u001b[0;32m---> 46\u001b[0m dsk \u001b[39m=\u001b[39m DuckArrayModule(\u001b[39m\"\u001b[39;49m\u001b[39mdask\u001b[39;49m\u001b[39m\"\u001b[39;49m)\n\u001b[1;32m     47\u001b[0m dask_version \u001b[39m=\u001b[39m dsk\u001b[39m.\u001b[39mversion\n\u001b[1;32m     48\u001b[0m dask_array_type \u001b[39m=\u001b[39m dsk\u001b[39m.\u001b[39mtype\n",
      "File \u001b[0;32m/usr/local/lib/python3.10/dist-packages/xarray/core/pycompat.py:21\u001b[0m, in \u001b[0;36mDuckArrayModule.__init__\u001b[0;34m(self, mod)\u001b[0m\n\u001b[1;32m     19\u001b[0m \u001b[39mdef\u001b[39;00m \u001b[39m__init__\u001b[39m(\u001b[39mself\u001b[39m, mod):\n\u001b[1;32m     20\u001b[0m     \u001b[39mtry\u001b[39;00m:\n\u001b[0;32m---> 21\u001b[0m         duck_array_module \u001b[39m=\u001b[39m import_module(mod)\n\u001b[1;32m     22\u001b[0m         duck_array_version \u001b[39m=\u001b[39m Version(duck_array_module\u001b[39m.\u001b[39m__version__)\n\u001b[1;32m     24\u001b[0m         \u001b[39mif\u001b[39;00m mod \u001b[39m==\u001b[39m \u001b[39m\"\u001b[39m\u001b[39mdask\u001b[39m\u001b[39m\"\u001b[39m:\n",
      "File \u001b[0;32m/usr/lib/python3.10/importlib/__init__.py:126\u001b[0m, in \u001b[0;36mimport_module\u001b[0;34m(name, package)\u001b[0m\n\u001b[1;32m    124\u001b[0m             \u001b[39mbreak\u001b[39;00m\n\u001b[1;32m    125\u001b[0m         level \u001b[39m+\u001b[39m\u001b[39m=\u001b[39m \u001b[39m1\u001b[39m\n\u001b[0;32m--> 126\u001b[0m \u001b[39mreturn\u001b[39;00m _bootstrap\u001b[39m.\u001b[39;49m_gcd_import(name[level:], package, level)\n",
      "File \u001b[0;32m/usr/local/lib/python3.10/dist-packages/dask/__init__.py:1\u001b[0m, in \u001b[0;36m<module>\u001b[0;34m\u001b[0m\n\u001b[0;32m----> 1\u001b[0m \u001b[39mfrom\u001b[39;00m \u001b[39mdask\u001b[39;00m \u001b[39mimport\u001b[39;00m config, datasets\n\u001b[1;32m      2\u001b[0m \u001b[39mfrom\u001b[39;00m \u001b[39mdask\u001b[39;00m\u001b[39m.\u001b[39;00m\u001b[39m_version\u001b[39;00m \u001b[39mimport\u001b[39;00m get_versions\n\u001b[1;32m      3\u001b[0m \u001b[39mfrom\u001b[39;00m \u001b[39mdask\u001b[39;00m\u001b[39m.\u001b[39;00m\u001b[39mbase\u001b[39;00m \u001b[39mimport\u001b[39;00m (\n\u001b[1;32m      4\u001b[0m     annotate,\n\u001b[1;32m      5\u001b[0m     compute,\n\u001b[0;32m   (...)\u001b[0m\n\u001b[1;32m      9\u001b[0m     visualize,\n\u001b[1;32m     10\u001b[0m )\n",
      "File \u001b[0;32m/usr/local/lib/python3.10/dist-packages/dask/config.py:15\u001b[0m, in \u001b[0;36m<module>\u001b[0;34m\u001b[0m\n\u001b[1;32m     12\u001b[0m \u001b[39mfrom\u001b[39;00m \u001b[39mcollections\u001b[39;00m\u001b[39m.\u001b[39;00m\u001b[39mabc\u001b[39;00m \u001b[39mimport\u001b[39;00m Mapping, Sequence\n\u001b[1;32m     13\u001b[0m \u001b[39mfrom\u001b[39;00m \u001b[39mtyping\u001b[39;00m \u001b[39mimport\u001b[39;00m Any, Literal\n\u001b[0;32m---> 15\u001b[0m \u001b[39mimport\u001b[39;00m \u001b[39myaml\u001b[39;00m\n\u001b[1;32m     17\u001b[0m no_default \u001b[39m=\u001b[39m \u001b[39m\"\u001b[39m\u001b[39m__no_default__\u001b[39m\u001b[39m\"\u001b[39m\n\u001b[1;32m     20\u001b[0m \u001b[39mdef\u001b[39;00m \u001b[39m_get_paths\u001b[39m():\n",
      "File \u001b[0;32m/usr/lib/python3/dist-packages/yaml/__init__.py:9\u001b[0m, in \u001b[0;36m<module>\u001b[0;34m\u001b[0m\n\u001b[1;32m      6\u001b[0m \u001b[39mfrom\u001b[39;00m \u001b[39m.\u001b[39;00m\u001b[39mnodes\u001b[39;00m \u001b[39mimport\u001b[39;00m \u001b[39m*\u001b[39m\n\u001b[1;32m      8\u001b[0m \u001b[39mfrom\u001b[39;00m \u001b[39m.\u001b[39;00m\u001b[39mloader\u001b[39;00m \u001b[39mimport\u001b[39;00m \u001b[39m*\u001b[39m\n\u001b[0;32m----> 9\u001b[0m \u001b[39mfrom\u001b[39;00m \u001b[39m.\u001b[39;00m\u001b[39mdumper\u001b[39;00m \u001b[39mimport\u001b[39;00m \u001b[39m*\u001b[39m\n\u001b[1;32m     11\u001b[0m __version__ \u001b[39m=\u001b[39m \u001b[39m'\u001b[39m\u001b[39m5.4.1\u001b[39m\u001b[39m'\u001b[39m\n\u001b[1;32m     12\u001b[0m \u001b[39mtry\u001b[39;00m:\n",
      "File \u001b[0;32m/usr/lib/python3/dist-packages/yaml/dumper.py:5\u001b[0m, in \u001b[0;36m<module>\u001b[0;34m\u001b[0m\n\u001b[1;32m      2\u001b[0m __all__ \u001b[39m=\u001b[39m [\u001b[39m'\u001b[39m\u001b[39mBaseDumper\u001b[39m\u001b[39m'\u001b[39m, \u001b[39m'\u001b[39m\u001b[39mSafeDumper\u001b[39m\u001b[39m'\u001b[39m, \u001b[39m'\u001b[39m\u001b[39mDumper\u001b[39m\u001b[39m'\u001b[39m]\n\u001b[1;32m      4\u001b[0m \u001b[39mfrom\u001b[39;00m \u001b[39m.\u001b[39;00m\u001b[39memitter\u001b[39;00m \u001b[39mimport\u001b[39;00m \u001b[39m*\u001b[39m\n\u001b[0;32m----> 5\u001b[0m \u001b[39mfrom\u001b[39;00m \u001b[39m.\u001b[39;00m\u001b[39mserializer\u001b[39;00m \u001b[39mimport\u001b[39;00m \u001b[39m*\u001b[39m\n\u001b[1;32m      6\u001b[0m \u001b[39mfrom\u001b[39;00m \u001b[39m.\u001b[39;00m\u001b[39mrepresenter\u001b[39;00m \u001b[39mimport\u001b[39;00m \u001b[39m*\u001b[39m\n\u001b[1;32m      7\u001b[0m \u001b[39mfrom\u001b[39;00m \u001b[39m.\u001b[39;00m\u001b[39mresolver\u001b[39;00m \u001b[39mimport\u001b[39;00m \u001b[39m*\u001b[39m\n",
      "File \u001b[0;32m<frozen importlib._bootstrap>:1027\u001b[0m, in \u001b[0;36m_find_and_load\u001b[0;34m(name, import_)\u001b[0m\n",
      "File \u001b[0;32m<frozen importlib._bootstrap>:1006\u001b[0m, in \u001b[0;36m_find_and_load_unlocked\u001b[0;34m(name, import_)\u001b[0m\n",
      "File \u001b[0;32m<frozen importlib._bootstrap>:688\u001b[0m, in \u001b[0;36m_load_unlocked\u001b[0;34m(spec)\u001b[0m\n",
      "File \u001b[0;32m<frozen importlib._bootstrap_external>:879\u001b[0m, in \u001b[0;36mexec_module\u001b[0;34m(self, module)\u001b[0m\n",
      "File \u001b[0;32m<frozen importlib._bootstrap_external>:975\u001b[0m, in \u001b[0;36mget_code\u001b[0;34m(self, fullname)\u001b[0m\n",
      "File \u001b[0;32m<frozen importlib._bootstrap_external>:1074\u001b[0m, in \u001b[0;36mget_data\u001b[0;34m(self, path)\u001b[0m\n",
      "\u001b[0;31mKeyboardInterrupt\u001b[0m: "
     ]
    }
   ],
   "source": [
    "import sys\n",
    "sys.path.append(\"../python\")\n",
    "\n",
    "import json\n",
    "import h5py\n",
    "import numpy as np\n",
    "import arviz as az\n",
    "import compute_costs\n",
    "import evaluations"
   ]
  },
  {
   "cell_type": "code",
   "execution_count": null,
   "metadata": {},
   "outputs": [],
   "source": [
    "settings = [\n",
    "    \"MH\",\n",
    "    \"MLDA ref\",\n",
    "    \"MLDA test\"\n",
    "]\n",
    "\n",
    "parameters_paths = [\n",
    "    \"../configs/test_mh/mh.json\",\n",
    "    \"../configs/test_mlda/mlda_ref.json\",\n",
    "    \"../configs/test_mlda/mlda_test.json\"\n",
    "]\n",
    "\n",
    "samples = []\n",
    "chains = []\n",
    "num_samples = []\n",
    "burn_in = []\n",
    "costs = []\n",
    "    \n",
    "for path in parameters_paths:\n",
    "    file = open(path)\n",
    "    config = json.load(file)\n",
    "    file.close()\n",
    "\n",
    "    num_samples.append(config[\"Sampling\"][\"NumSamples\"])\n",
    "    burn_in.append(config[\"Sampling\"][\"BurnIn\"])\n",
    "    chains.append(config[\"Setup\"][\"Chains\"])\n",
    "    \n",
    "    samples_mlda = []\n",
    "    for c in range(config[\"Setup\"][\"Chains\"]):\n",
    "        sample_path = config[\"Setup\"][\"OutputPath\"] + config[\"Sampling\"][\"ResultFile\"] \n",
    "        fin = h5py.File(sample_path + \"_\" + str(c) + \".h5\")\n",
    "        samples_mlda.append(np.array(fin['/samples']))\n",
    "        fin.close()\n",
    "    samples.append(samples_mlda)"
   ]
  },
  {
   "cell_type": "code",
   "execution_count": null,
   "metadata": {},
   "outputs": [],
   "source": [
    "# compute ess\n",
    "ess = []\n",
    "\n",
    "for i,sample in enumerate(samples):\n",
    "    ess_mlda = []\n",
    "    for j,chain in enumerate(sample): \n",
    "        if(evaluations.is_converged(chain)==False): \n",
    "            print(\"Not converged in setting \" + settings[i] + \" for chain \" + str(j))  \n",
    "        elif(evaluations.burn_in_check(chain)==False): \n",
    "            print(\"Burn-in too small in setting \" + settings[i] + \" for chain \" + str(j))  \n",
    "        ess_mlda.append(min(az.ess(chain[0]),az.ess(chain[1]),az.ess(chain[2])))\n",
    "    ess.append(ess_mlda)\n",
    "\n"
   ]
  },
  {
   "cell_type": "code",
   "execution_count": null,
   "metadata": {},
   "outputs": [
    {
     "name": "stdout",
     "output_type": "stream",
     "text": [
      "Samples (on finest level) per effective sample \n",
      "\n",
      "MH: 229.09492849636047 (1.0)\n",
      "MLDA ref: 66.66914515484044 (0.29101100400788477)\n",
      "\n",
      "\n",
      "MH: 240.52866358689565 (1.0)\n",
      "MLDA ref: 105.02775269916353 (0.4366537905833423)\n",
      "\n",
      "\n",
      "MH: 496.3669327102241 (1.0)\n",
      "MLDA ref: 236.96464776761604 (0.4773981346294769)\n",
      "\n",
      "\n",
      "MH: 5959.780849576767 (1.0)\n",
      "MLDA ref: 167.5273906112812 (0.028109656183612546)\n",
      "\n",
      "\n",
      "MH: 1679.498619298118 (1.0)\n",
      "MLDA ref: 200.47776749603793 (0.11936762864373174)\n",
      "\n",
      "\n",
      "MH: 1905.144002709897 (1.0)\n",
      "MLDA ref: 3400.849670270056 (1.7850879857022102)\n",
      "\n",
      "\n",
      "MH: 16982.813421078394 (1.0)\n",
      "MLDA ref: 288.97689430197806 (0.017015843437537353)\n",
      "\n",
      "\n"
     ]
    }
   ],
   "source": [
    "print(\"Samples (on finest level) per effective sample \\n\")\n",
    "\n",
    "samples_per_es = np.zeros((len(settings),min(chains)))\n",
    "rel_samples_per_es = np.zeros((len(settings),min(chains)))\n",
    "\n",
    "for j in range(min(chains)):\n",
    "    for i in range(len(settings)):\n",
    "        samples_per_es[i,j] = (num_samples[i]-burn_in[i])/ess[i][j]\n",
    "        rel_samples_per_es[i,j] = samples_per_es[i,j]/samples_per_es[0,j]\n",
    "\n",
    "        print(settings[i] + \": \" + str(samples_per_es[i,j]) + \" (\" + str(rel_samples_per_es[i,j]) +\")\")\n",
    "            \n",
    "    print(\"\\n\")\n",
    "\n"
   ]
  },
  {
   "cell_type": "code",
   "execution_count": null,
   "metadata": {},
   "outputs": [
    {
     "name": "stdout",
     "output_type": "stream",
     "text": [
      "Dipole:\n",
      "Dipole[position: [120 220] moment: [0.0707372 0.997495]]\n",
      "volume_conductor.time_creating_grid = 0.20263\n",
      "volume_conductor.time_reordering_labels = 0.0026615\n",
      "volume_conductor.time = 0.205293\n",
      "time_element_neighborhood_map 0.0139845 s\n",
      "degree = 1\n",
      "element_type = hexahedron\n",
      "Dipole[position: [120 220] moment: [0.0707372 0.997495]]\n",
      "sigma = 0.11508410052537331\n",
      "{'Level3_V': {0: array([-8.55226161, -8.56861298, -8.14924543, -8.60904547, -8.91536296,\n",
      "       -8.28212764, -8.06684611, -9.23144628, -7.87700115, -9.24694914,\n",
      "       -7.92711236, -9.23213438, -9.13928853, -7.79511614, -9.15710694,\n",
      "       -8.44429476, -8.16618367, -7.40134013, -6.20391782, -3.90283444,\n",
      "       -0.16406144,  6.07622764, 13.82840884, 20.44844333, 23.09616768,\n",
      "       21.93330918, 19.34472515, 16.45954569, 13.75498795, 11.79171568,\n",
      "       10.13486827,  2.82477786,  2.24388962,  1.51179187, -0.22799063,\n",
      "        0.07822417])}}\n",
      "volume_conductor.time_creating_grid = 0.174751\n",
      "volume_conductor.time_reordering_labels = 0.0029986\n",
      "volume_conductor.time = 0.177751\n",
      "time_element_neighborhood_map 0.0116664 s\n",
      "degree = 1\n",
      "element_type = hexahedron\n",
      "[185000.]\n",
      "Dipole:\n",
      "Dipole[position: [120 220] moment: [0.0707372 0.997495]]\n",
      "volume_conductor.time_creating_grid = 0.0080148\n",
      "volume_conductor.time_reordering_labels = 0.0001462\n",
      "volume_conductor.time = 0.0081622\n",
      "time_element_neighborhood_map 0.0007132 s\n",
      "degree = 1\n",
      "element_type = hexahedron\n",
      "Dipole[position: [120 220] moment: [0.0707372 0.997495]]\n",
      "sigma = 0.12414018211166233\n",
      "volume_conductor.time_creating_grid = 0.175327\n",
      "volume_conductor.time_reordering_labels = 0.002753\n",
      "volume_conductor.time = 0.178081\n",
      "time_element_neighborhood_map 0.0144793 s\n",
      "degree = 1\n",
      "element_type = hexahedron\n",
      "Dipole[position: [120 220] moment: [0.0707372 0.997495]]\n",
      "sigma = 0.11508410052537331\n",
      "{'Level1': {0: array([ -9.97264769,  -9.50616001, -10.34293748,  -7.50044584,\n",
      "        -2.58143436,  11.24224111,  24.87465027,   7.40264338,\n",
      "        -3.56712968])}, 'Level2': {0: array([-8.44532398, -8.71999627, -8.48941062, -8.8461473 , -8.98397815,\n",
      "       -8.28464144, -8.03465506, -8.94427487, -7.81610961, -9.23791873,\n",
      "       -7.65411429, -9.33500317, -9.09259312, -7.6435911 , -9.2112285 ,\n",
      "       -8.65005291, -7.98361546, -7.29401677, -6.19400775, -4.11387671,\n",
      "       -0.15580976,  5.89744918, 13.52499221, 20.35099318, 23.04443449,\n",
      "       21.9248405 , 19.16483722, 16.39727943, 13.8806984 , 12.11117794,\n",
      "       10.07112733,  2.87182423,  2.38213396,  1.60518241, -0.35634999,\n",
      "       -0.0331237 ])}}\n",
      "volume_conductor.time_creating_grid = 0.0077498\n",
      "volume_conductor.time_reordering_labels = 0.0001351\n",
      "volume_conductor.time = 0.0078861\n",
      "time_element_neighborhood_map 0.0009462 s\n",
      "degree = 1\n",
      "element_type = hexahedron\n",
      "volume_conductor.time_creating_grid = 0.165549\n",
      "volume_conductor.time_reordering_labels = 0.0029525\n",
      "volume_conductor.time = 0.168504\n",
      "time_element_neighborhood_map 0.0198019 s\n",
      "degree = 1\n",
      "element_type = hexahedron\n",
      "[85500. 19000.]\n"
     ]
    }
   ],
   "source": [
    "costs = np.zeros(len(parameters_paths))\n",
    "for i in range(len(settings)):\n",
    "    costs[i] = evaluations.costs_per_sample(parameters_paths[i])"
   ]
  },
  {
   "cell_type": "code",
   "execution_count": null,
   "metadata": {},
   "outputs": [
    {
     "name": "stdout",
     "output_type": "stream",
     "text": [
      "Costs per effective sample \n",
      "\n",
      "MH: 0.8192480467433901 (1.0)\n",
      "MLDA ref: 1.2600446165141679 (1.5380501931289277)\n",
      "\n",
      "\n",
      "MH: 0.8601353121288878 (1.0)\n",
      "MLDA ref: 1.985021017830675 (2.3078008655610547)\n",
      "\n",
      "\n",
      "MH: 1.775018079884379 (1.0)\n",
      "MLDA ref: 4.478623927609819 (2.523142709566962)\n",
      "\n",
      "\n",
      "MH: 21.31229552779906 (1.0)\n",
      "MLDA ref: 3.1662620867291102 (0.14856504230617212)\n",
      "\n",
      "\n",
      "MH: 6.005920656554658 (1.0)\n",
      "MLDA ref: 3.789023109227929 (0.6308813129412087)\n",
      "\n",
      "\n",
      "MH: 6.8128330610765255 (1.0)\n",
      "MLDA ref: 64.27594517141702 (9.434539874262015)\n",
      "\n",
      "\n",
      "MH: 60.73088049021102 (1.0)\n",
      "MLDA ref: 5.461653649773165 (0.08993206760197571)\n",
      "\n",
      "\n"
     ]
    }
   ],
   "source": [
    "print(\"Costs per effective sample \\n\")\n",
    "\n",
    "costs_per_ed = np.zeros((len(settings),min(chains)))\n",
    "rel_costs_per_ed = np.zeros((len(settings),min(chains)))\n",
    "\n",
    "for j in range(min(chains)):\n",
    "    for i in range(len(settings)):\n",
    "        costs_per_ed[i,j] = costs[i]/ess[i][j]\n",
    "        rel_costs_per_ed[i,j] = costs_per_ed[i,j] / costs_per_ed[0,j]\n",
    "\n",
    "        print(settings[i] + \": \" + str(costs_per_ed[i,j]) + \" (\" + str(rel_costs_per_ed[i,j]) + \")\")\n",
    "            \n",
    "    print(\"\\n\")"
   ]
  },
  {
   "cell_type": "code",
   "execution_count": null,
   "metadata": {},
   "outputs": [
    {
     "name": "stdout",
     "output_type": "stream",
     "text": [
      "Average relative costs per effective sample \n",
      "\n",
      "MH: 1.0\n",
      "MLDA ref: 2.381844580766902\n"
     ]
    }
   ],
   "source": [
    "print(\"Average relative costs per effective sample \\n\")\n",
    "\n",
    "for i in range(len(settings)):\n",
    "    av = 0\n",
    "    for j in range(min(chains)):  \n",
    "        av += rel_costs_per_ed[i,j]\n",
    "    av = av/min(chains)\n",
    "    print(settings[i] + \": \" + str(av))\n"
   ]
  }
 ],
 "metadata": {
  "kernelspec": {
   "display_name": "Python 3.10.4 64-bit",
   "language": "python",
   "name": "python3"
  },
  "language_info": {
   "codemirror_mode": {
    "name": "ipython",
    "version": 3
   },
   "file_extension": ".py",
   "mimetype": "text/x-python",
   "name": "python",
   "nbconvert_exporter": "python",
   "pygments_lexer": "ipython3",
   "version": "3.10.4"
  },
  "orig_nbformat": 4,
  "vscode": {
   "interpreter": {
    "hash": "31f2aee4e71d21fbe5cf8b01ff0e069b9275f58929596ceb00d14d90e3e16cd6"
   }
  }
 },
 "nbformat": 4,
 "nbformat_minor": 2
}
