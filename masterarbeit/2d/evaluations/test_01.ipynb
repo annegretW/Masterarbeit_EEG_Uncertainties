{
 "cells": [
  {
   "cell_type": "code",
   "execution_count": 7,
   "metadata": {},
   "outputs": [],
   "source": [
    "import sys\n",
    "sys.path.append(\"../python\")\n",
    "\n",
    "import json\n",
    "import h5py\n",
    "import numpy as np\n",
    "import arviz as az\n",
    "import compute_costs"
   ]
  },
  {
   "cell_type": "code",
   "execution_count": 8,
   "metadata": {},
   "outputs": [],
   "source": [
    "parameters_path_mlda = \"../configs/mlda_with_orientation.json\"\n",
    "    \n",
    "file_mlda = open(parameters_path_mlda)\n",
    "config_mlda = json.load(file_mlda)\n",
    "file_mlda.close()\n",
    "\n",
    "# load samples\n",
    "chains_mlda = config_mlda[\"Setup\"][\"Chains\"]\n",
    "samples_mlda = []\n",
    "for c in range(chains_mlda):\n",
    "    sample_path = config_mlda[\"Setup\"][\"OutputPath\"] + config_mlda[\"Sampling\"][\"ResultFile\"] \n",
    "    fin = h5py.File(sample_path + \"_\" + str(c) + \".h5\")\n",
    "    samples_mlda.append(np.array(fin['/samples']))\n",
    "    fin.close()"
   ]
  },
  {
   "cell_type": "code",
   "execution_count": 9,
   "metadata": {},
   "outputs": [],
   "source": [
    "parameters_path_mh = \"../configs/mh_with_orientation.json\"\n",
    "    \n",
    "file_mh = open(parameters_path_mh)\n",
    "config_mh = json.load(file_mh)\n",
    "file_mh.close()\n",
    "\n",
    "# load samples\n",
    "chains_mh = config_mh[\"Setup\"][\"Chains\"]\n",
    "samples_mh = []\n",
    "for c in range(chains_mh):\n",
    "    sample_path = config_mh[\"Setup\"][\"OutputPath\"] + config_mh[\"Sampling\"][\"ResultFile\"] \n",
    "    fin = h5py.File(sample_path + \"_\" + str(c) + \".h5\")\n",
    "    samples_mh.append(np.array(fin['/samples'][:,250000:]))\n",
    "    fin.close()"
   ]
  },
  {
   "cell_type": "code",
   "execution_count": 10,
   "metadata": {},
   "outputs": [],
   "source": [
    "# compute ess\n",
    "ess_mh = np.zeros((chains_mh,3))\n",
    "ess_1_mh = np.zeros((chains_mh,3))\n",
    "ess_2_mh = np.zeros((chains_mh,3))\n",
    "for c in range(chains_mh):\n",
    "    ess_mh[c][0] = az.ess(samples_mh[c][0])\n",
    "    ess_mh[c][1] = az.ess(samples_mh[c][1])\n",
    "    ess_mh[c][2] = az.ess(samples_mh[c][2])\n",
    "\n",
    "ess_mlda = np.zeros((chains_mlda,3))\n",
    "ess_1_mlda = np.zeros((chains_mlda,3))\n",
    "ess_2_mlda = np.zeros((chains_mlda,3))\n",
    "for c in range(chains_mlda):\n",
    "    ess_mlda[c][0] = az.ess(samples_mlda[c][0])\n",
    "    ess_mlda[c][1] = az.ess(samples_mlda[c][1])\n",
    "    ess_mlda[c][2] = az.ess(samples_mlda[c][2])"
   ]
  },
  {
   "cell_type": "code",
   "execution_count": 11,
   "metadata": {},
   "outputs": [
    {
     "name": "stdout",
     "output_type": "stream",
     "text": [
      "Samples per effective sample \n",
      "\n",
      "MCMC (750000)\n",
      "Sample 0: 49891.09742519653\n",
      "Sample 1: 795.4519413739401\n",
      "Sample 2: 435.06844938789607\n",
      "Sample 3: 3313.4488245834355\n",
      "Sample 4: 300.1478691675277\n",
      "MLDA (30000)\n",
      "Sample 0: 18449.97811818519\n",
      "Sample 1: 255.04322795859505\n",
      "Sample 2: 117.6110408288201\n",
      "Sample 3: 562.7928377686874\n",
      "Sample 4: 179.17927669024778\n"
     ]
    }
   ],
   "source": [
    "print(\"Samples per effective sample \\n\")\n",
    "\n",
    "num_samples_mh = config_mh[\"Sampling\"][\"NumSamples\"] - config_mh[\"Sampling\"][\"BurnIn\"]\n",
    "print(\"MCMC (\" + str(num_samples_mh) + \")\")\n",
    "for c in range(chains_mh):\n",
    "    print(\"Sample \" + str(c) + \": \" + str(num_samples_mh/min(ess_mh[c][0],ess_mh[c][1],ess_mh[c][2])))\n",
    "\n",
    "num_samples_mlda = config_mlda[\"Sampling\"][\"NumSamples\"] - config_mlda[\"Sampling\"][\"BurnIn\"]\n",
    "print(\"MLDA (\" + str(num_samples_mlda) + \")\")\n",
    "for c in range(chains_mlda):\n",
    "    print(\"Sample \" + str(c) + \": \" + str(num_samples_mlda/min(ess_mlda[c][0],ess_mlda[c][1],ess_mlda[c][2])))"
   ]
  },
  {
   "cell_type": "code",
   "execution_count": 14,
   "metadata": {},
   "outputs": [
    {
     "name": "stdout",
     "output_type": "stream",
     "text": [
      "Costs per effective sample \n",
      "\n",
      "MCMC (1000000)\n",
      "Sample 0: 66521.46323359538\n",
      "Sample 1: 1060.6025884985868\n",
      "Sample 2: 580.0912658505281\n",
      "Sample 3: 4417.931766111247\n",
      "Sample 4: 400.1971588900369\n",
      "MLDA (30000)\n",
      "Sample 0: 147599.82494548152\n",
      "Sample 1: 2040.3458236687604\n",
      "Sample 2: 940.8883266305608\n",
      "Sample 3: 4502.342702149499\n",
      "Sample 4: 1433.4342135219822\n"
     ]
    }
   ],
   "source": [
    "print(\"Costs per effective sample \\n\")\n",
    "\n",
    "print(\"MCMC\")\n",
    "costs_mh = compute_costs.compute_costs(parameters_path_mh)\n",
    "print(costs_mh)\n",
    "num_samples_mh = config_mh[\"Sampling\"][\"NumSamples\"]\n",
    "for c in range(chains_mh):\n",
    "    print(\"Sample \" + str(c) + \": \" + str(costs_mh*num_samples_mh/min(ess_mh[c][0],ess_mh[c][1],ess_mh[c][2])))\n",
    "\n",
    "print(\"MLDA\")\n",
    "costs_mlda = compute_costs.compute_costs(parameters_path_mlda)\n",
    "print(costs_mlda)\n",
    "num_samples_mlda = config_mlda[\"Sampling\"][\"NumSamples\"]\n",
    "for c in range(chains_mlda):\n",
    "    print(\"Sample \" + str(c) + \": \" + str(costs_mlda*num_samples_mlda/min(ess_mlda[c][0],ess_mlda[c][1],ess_mlda[c][2])))"
   ]
  }
 ],
 "metadata": {
  "kernelspec": {
   "display_name": "Python 3.10.4 64-bit",
   "language": "python",
   "name": "python3"
  },
  "language_info": {
   "codemirror_mode": {
    "name": "ipython",
    "version": 3
   },
   "file_extension": ".py",
   "mimetype": "text/x-python",
   "name": "python",
   "nbconvert_exporter": "python",
   "pygments_lexer": "ipython3",
   "version": "3.10.4"
  },
  "orig_nbformat": 4,
  "vscode": {
   "interpreter": {
    "hash": "31f2aee4e71d21fbe5cf8b01ff0e069b9275f58929596ceb00d14d90e3e16cd6"
   }
  }
 },
 "nbformat": 4,
 "nbformat_minor": 2
}
